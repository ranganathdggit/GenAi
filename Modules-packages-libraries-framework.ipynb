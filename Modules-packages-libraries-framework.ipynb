{
 "cells": [
  {
   "cell_type": "code",
   "execution_count": 1,
   "id": "1e8973da",
   "metadata": {},
   "outputs": [
    {
     "name": "stdout",
     "output_type": "stream",
     "text": [
      "squrt of 25 is 5.0\n",
      "squrt of 16 is 4.0\n"
     ]
    }
   ],
   "source": [
    "from math import sqrt\n",
    "print(\"squrt of 25 is\", sqrt(25))\n",
    "print(\"squrt of 16 is\", sqrt(16))"
   ]
  },
  {
   "cell_type": "code",
   "execution_count": null,
   "id": "073df1cf",
   "metadata": {},
   "outputs": [
    {
     "name": "stdout",
     "output_type": "stream",
     "text": [
      "13\n"
     ]
    }
   ],
   "source": [
    "print(len(\"Hello, World!\"))\n",
    "print"
   ]
  },
  {
   "cell_type": "code",
   "execution_count": 14,
   "id": "493b55fb",
   "metadata": {},
   "outputs": [
    {
     "name": "stdout",
     "output_type": "stream",
     "text": [
      "H\n",
      "ello, World!\n",
      "llo\n",
      "!\n",
      "orld!\n",
      "World\n",
      "World\n"
     ]
    }
   ],
   "source": [
    "text = \"Hello, World!\"\n",
    "print(text[0])  # H\n",
    "print(text[1:]) # ello, World!  \n",
    "print(text[2:5]) # llo\n",
    "print(text[-1:]) # !\n",
    "print(text[-5:]) # World!\n",
    "print(text[-6:-1]) # World\n",
    "print(text[7:len(text)-1]) # World!\n",
    "\n"
   ]
  },
  {
   "cell_type": "code",
   "execution_count": 5,
   "id": "35376259",
   "metadata": {},
   "outputs": [
    {
     "name": "stdout",
     "output_type": "stream",
     "text": [
      "Hello, World! chindi chitranna\n",
      "Hello, World!Hello, World!\n",
      "True\n",
      "False\n",
      "HELLO, WORLD!\n",
      "hello, world!\n",
      "Hello, Python!\n",
      "['Hello', ' World!']\n",
      "Hello, World!\n",
      "7\n",
      "7\n",
      "3\n"
     ]
    }
   ],
   "source": [
    "text1= \"Hello, World!\"\n",
    "text2 = \"chindi chitranna\"\n",
    "print(text1 + \" \" + text2)  # Hello, World! chindi chitranna\n",
    "print(text1 * 2)  # Hello, World!Hello, World!\n",
    "print(\"Hello\" in text1)  # True\n",
    "print(\"Hello\" not in text1)  # False\n",
    "print(text1.upper())  # HELLO, WORLD!\n",
    "print(text1.lower())  # hello, world!\n",
    "print(text1.replace(\"World\", \"Python\"))  # Hello, Python!\n",
    "print(text1.split(\",\"))  # ['Hello', ' World!']\n",
    "print(text1.strip())  # Hello, World!\n",
    "print(text1.find(\"World\"))  # 7\n",
    "print(text1.index(\"World\"))  # 7\n",
    "print(text1.count(\"l\"))  # 3"
   ]
  },
  {
   "cell_type": "code",
   "execution_count": 23,
   "id": "15981064",
   "metadata": {},
   "outputs": [
    {
     "name": "stdout",
     "output_type": "stream",
     "text": [
      "Hello, World!**chindi chitranna\n",
      "I love these fruits :apple,banana,cherry\n",
      "['apple', 'banana', 'cherry']\n",
      "['cherry', 'banana', 'apple']\n",
      "apple\n"
     ]
    }
   ],
   "source": [
    "text1 = \"Hello, World!\"\n",
    "text2 = \"chindi chitranna\"\n",
    "print(\"**\".join([text1, text2]))  # Hello, World!**chindi chitranna\n",
    "\n",
    "fruits = [\"apple\", \"banana\", \"cherry\"]\n",
    "love = \"I love these fruits \"\n",
    "print(\":\".join([love,\",\".join(fruits)]))  # I love these fruits : apple,banana,cherry\n",
    "\n",
    "print(sorted(fruits))  # ['apple', 'banana', 'cherry']\n",
    "print(sorted(fruits, reverse=True))  # ['cherry', 'banana', 'apple']\n",
    "print(fruits[0])  # apple\n"
   ]
  },
  {
   "cell_type": "code",
   "execution_count": 34,
   "id": "9a84be62",
   "metadata": {},
   "outputs": [
    {
     "name": "stdout",
     "output_type": "stream",
     "text": [
      "['Alice', 'David', 'Alice', 'Eve', 'Frank', 'Alice', 'Eve', 'Frank', 'Alice', 'Eve', 'Frank', 'Alice', 'Eve', 'Frank', 'Alice']\n"
     ]
    }
   ],
   "source": [
    "gusets = []\n",
    "guests.append(\"Alice\")\n",
    "gusets.append(\"Bob\")\n",
    "gusets.append(\"Charlie\")\n",
    "print(guests)\n"
   ]
  },
  {
   "cell_type": "code",
   "execution_count": 35,
   "id": "1c3082ee",
   "metadata": {},
   "outputs": [
    {
     "name": "stdout",
     "output_type": "stream",
     "text": [
      "['Alice', 'David', 'David', 'Alice', 'Eve', 'Frank', 'Alice', 'Eve', 'Frank', 'Alice', 'Eve', 'Frank', 'Alice', 'Eve', 'Frank', 'Alice', 'Eve', 'Frank']\n",
      "Alice\n",
      "['David', 'David', 'Alice']\n",
      "David\n",
      "['Alice', 'David', 'Alice', 'Eve', 'Frank', 'Alice', 'Eve', 'Frank', 'Alice', 'Eve', 'Frank', 'Alice', 'Eve', 'Frank', 'Alice', 'Eve', 'Frank']\n"
     ]
    }
   ],
   "source": [
    "\n",
    "gusets = []\n",
    "guests.insert(1, \"David\")\n",
    "guests.extend([\"Eve\", \"Frank\"])\n",
    "print(guests)  # ['Alice', 'David', 'Bob', 'Charlie', 'Eve', 'Frank']\n",
    "\n",
    "print(guests[0])  # Alice\n",
    "print(guests[1:4])  # ['David', 'Bob', 'Charlie']\n",
    "print(guests.pop(1))  # David\n",
    "print(guests)  # ['David', 'Bob', 'Charlie', 'Eve', 'Frank']"
   ]
  },
  {
   "cell_type": "code",
   "execution_count": 38,
   "id": "83842e21",
   "metadata": {},
   "outputs": [
    {
     "name": "stdout",
     "output_type": "stream",
     "text": [
      "['David', 'Eve', 'Frank', 'Alice', 'Eve', 'Frank', 'Alice', 'Eve', 'Frank', 'Alice', 'Eve', 'Frank', 'Alice', 'Eve', 'Frank']\n"
     ]
    }
   ],
   "source": [
    "guests.remove(\"Alice\")\n",
    "print(guests)  # ['Bob', 'Charlie', 'Eve', 'Frank']"
   ]
  }
 ],
 "metadata": {
  "kernelspec": {
   "display_name": "base",
   "language": "python",
   "name": "python3"
  },
  "language_info": {
   "codemirror_mode": {
    "name": "ipython",
    "version": 3
   },
   "file_extension": ".py",
   "mimetype": "text/x-python",
   "name": "python",
   "nbconvert_exporter": "python",
   "pygments_lexer": "ipython3",
   "version": "3.12.7"
  }
 },
 "nbformat": 4,
 "nbformat_minor": 5
}
