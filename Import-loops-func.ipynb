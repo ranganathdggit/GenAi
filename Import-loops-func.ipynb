{
 "cells": [
  {
   "cell_type": "code",
   "execution_count": 2,
   "id": "10bc7f85",
   "metadata": {},
   "outputs": [
    {
     "name": "stdout",
     "output_type": "stream",
     "text": [
      "4.0\n"
     ]
    }
   ],
   "source": [
    "import math\n",
    "print(math.sqrt(16))"
   ]
  },
  {
   "cell_type": "code",
   "execution_count": null,
   "id": "92e452c9",
   "metadata": {},
   "outputs": [],
   "source": []
  },
  {
   "cell_type": "code",
   "execution_count": 3,
   "id": "9c9307be",
   "metadata": {},
   "outputs": [
    {
     "name": "stdout",
     "output_type": "stream",
     "text": [
      "3.141592653589793\n",
      "120\n"
     ]
    }
   ],
   "source": [
    "from math import pi\n",
    "print(pi)\n",
    "from math import factorial\n",
    "print(factorial(5))"
   ]
  },
  {
   "cell_type": "code",
   "execution_count": 7,
   "id": "3773a581",
   "metadata": {},
   "outputs": [
    {
     "name": "stdout",
     "output_type": "stream",
     "text": [
      "sine it is 0.8509035245341184\n"
     ]
    }
   ],
   "source": [
    "if 1>0:\n",
    "    from math import sin\n",
    "    print(\"sine it is\",sin(45))\n",
    "else:\n",
    "    from math import cos\n",
    "    print(\"cos it is\",cos(0))"
   ]
  },
  {
   "cell_type": "code",
   "execution_count": null,
   "id": "4e8d8a47",
   "metadata": {},
   "outputs": [
    {
     "name": "stdout",
     "output_type": "stream",
     "text": [
      "Grade D\n"
     ]
    }
   ],
   "source": [
    "marks = input(\"Enter your marks: \")\n",
    "if marks >= '90':\n",
    "    print(\"Grade A\")\n",
    "elif marks >= '80':\n",
    "    print(\"Grade B\")\n",
    "elif marks >= '70':\n",
    "    print(\"Grade C\")\n",
    "elif marks >= '60':\n",
    "    print(\"Grade D\")\n",
    "elif marks >= '50':\n",
    "    print(\"Grade E\")\n",
    "else:   \n",
    "    print(\"Falied\")\n",
    "\n"
   ]
  },
  {
   "cell_type": "code",
   "execution_count": 9,
   "id": "c8880276",
   "metadata": {},
   "outputs": [
    {
     "name": "stdout",
     "output_type": "stream",
     "text": [
      "Odd\n"
     ]
    }
   ],
   "source": [
    "num = int(input(\"Enter a number: \"))\n",
    "if num % 2 == 0:\n",
    "    print(\"Even\")\n",
    "else:\n",
    "    print(\"Odd\")    "
   ]
  },
  {
   "cell_type": "code",
   "execution_count": 3,
   "id": "4515eff8",
   "metadata": {},
   "outputs": [
    {
     "name": "stdout",
     "output_type": "stream",
     "text": [
      "1 chindi 2 chindi 3 chindi 4 chindi 5 chindi 6 chindi 7 chindi 8 chindi 9 chindi 10 chindi \n",
      "Loop completed.\n"
     ]
    }
   ],
   "source": [
    "for i in range(1, 11):\n",
    "    print(i,end=' chindi ')\n",
    "print(\"\\nLoop completed.\")"
   ]
  },
  {
   "cell_type": "code",
   "execution_count": 14,
   "id": "9d532081",
   "metadata": {},
   "outputs": [
    {
     "name": "stdout",
     "output_type": "stream",
     "text": [
      "apple,banana,cherry,\n",
      "Fruits loop completed.\n"
     ]
    }
   ],
   "source": [
    "fruits = [\"apple\", \"banana\", \"cherry\"]\n",
    "for fruit in fruits:\n",
    "    print(fruit, end=',')\n",
    "print(\"\\nFruits loop completed.\")"
   ]
  },
  {
   "cell_type": "code",
   "execution_count": 6,
   "id": "37c35b38",
   "metadata": {},
   "outputs": [
    {
     "name": "stdout",
     "output_type": "stream",
     "text": [
      "rabbit dog cat \n",
      "Animals set loop completed.\n"
     ]
    }
   ],
   "source": [
    "animals_set = {\"dog\", \"cat\", \"rabbit\"}\n",
    "for animal in animals_set:\n",
    "    print(animal, end=' ')\n",
    "print(\"\\nAnimals set loop completed.\") "
   ]
  },
  {
   "cell_type": "code",
   "execution_count": 7,
   "id": "92a43a4f",
   "metadata": {},
   "outputs": [
    {
     "name": "stdout",
     "output_type": "stream",
     "text": [
      "AAPL GOOGL AMZN \n",
      "Stocks tuple loop completed.\n"
     ]
    }
   ],
   "source": [
    "stocks_tuple = (\"AAPL\", \"GOOGL\", \"AMZN\")\n",
    "for stock in stocks_tuple:\n",
    "    print(stock, end=' ')\n",
    "print(\"\\nStocks tuple loop completed.\")"
   ]
  },
  {
   "cell_type": "code",
   "execution_count": 15,
   "id": "2199c810",
   "metadata": {},
   "outputs": [
    {
     "name": "stdout",
     "output_type": "stream",
     "text": [
      "USA Canada Mexico \n",
      "Countries while loop completed.\n",
      "list is []\n"
     ]
    }
   ],
   "source": [
    "county_list = [\"USA\", \"Canada\", \"Mexico\"]\n",
    "while county_list:\n",
    "    country = county_list.pop(0)\n",
    "    print(country, end=' ')\n",
    "print(\"\\nCountries while loop completed.\")\n",
    "\n",
    "print(\"list is\",county_list)"
   ]
  },
  {
   "cell_type": "code",
   "execution_count": 16,
   "id": "2573b27d",
   "metadata": {},
   "outputs": [
    {
     "name": "stdout",
     "output_type": "stream",
     "text": [
      "continuing 1\n",
      "continuing 2\n",
      "continuing 3\n",
      "continuing 4\n",
      "continuing 5\n",
      "continuing 6\n",
      "continuing 7\n",
      "Breaking at 8\n",
      "\n",
      "Loop with continue and break completed.\n"
     ]
    }
   ],
   "source": [
    "\n",
    "for j in range(1, 11): \n",
    "    if j < 8:\n",
    "        print(\"continuing\",j)\n",
    "        continue\n",
    "    if j == 8:\n",
    "        print(\"Breaking at 8\")\n",
    "        break\n",
    "    print(j, end=' ')\n",
    "print(\"\\nLoop with continue and break completed.\")"
   ]
  },
  {
   "cell_type": "code",
   "execution_count": 17,
   "id": "ce469c64",
   "metadata": {},
   "outputs": [
    {
     "name": "stdout",
     "output_type": "stream",
     "text": [
      "You entered: ranga\n",
      "You entered: ranga\n",
      "You entered: chindi\n",
      "Exiting the loop.\n"
     ]
    }
   ],
   "source": [
    "while True:\n",
    "    user_input = input(\"Enter 'exit' to stop: \")\n",
    "    if user_input.lower() == 'exit':\n",
    "        print(\"Exiting the loop.\")\n",
    "        break\n",
    "    else:\n",
    "        print(\"You entered:\", user_input)"
   ]
  },
  {
   "cell_type": "code",
   "execution_count": 20,
   "id": "2a7842ba",
   "metadata": {},
   "outputs": [
    {
     "name": "stdout",
     "output_type": "stream",
     "text": [
      "1 is odd\n",
      "12 is even\n",
      "23 is odd\n",
      "34 is even\n",
      "45 is odd\n",
      "56 is even\n",
      "67 is odd\n",
      "78 is even\n",
      "89 is odd\n",
      "100 is even\n"
     ]
    }
   ],
   "source": [
    "for i in range(1, 110,11):\n",
    "    if i % 2 == 0:\n",
    "        print(f\"{i} is even\")\n",
    "    else:\n",
    "        print(f\"{i} is odd\")"
   ]
  },
  {
   "cell_type": "code",
   "execution_count": 6,
   "id": "3c51130a",
   "metadata": {},
   "outputs": [
    {
     "name": "stdout",
     "output_type": "stream",
     "text": [
      "Hello, Alice!\n",
      "Hello, Bob!\n"
     ]
    }
   ],
   "source": [
    "def greet(name):\n",
    "    \"\"\"Function to greet a person.\"\"\"\n",
    "    print(f\"Hello, {name}!\")\n",
    "greet(\"Alice\")\n",
    "greet(\"Bob\")"
   ]
  },
  {
   "cell_type": "code",
   "execution_count": null,
   "id": "926986c9",
   "metadata": {},
   "outputs": [
    {
     "name": "stdout",
     "output_type": "stream",
     "text": [
      "The sum of 58.6 and 25.64 is 84.24000000000001.\n"
     ]
    }
   ],
   "source": [
    "def add_numbers(a, b):\n",
    "    \"\"\"Function to add two numbers.\"\"\"\n",
    "    sum = a+ b\n",
    "    print(f\"The sum of {a} and {b} is {sum}.\")\n",
    "    return sum\n",
    "result = add_numbers(float(input(\"enter 1st number\")), float(input(\"enter 2nd number\")))\n"
   ]
  },
  {
   "cell_type": "code",
   "execution_count": 19,
   "id": "063b1b46",
   "metadata": {},
   "outputs": [
    {
     "name": "stdout",
     "output_type": "stream",
     "text": [
      "3 raised to the power of 5 is 243.\n",
      "4 raised to the power of 3 is 64.\n",
      "2 raised to the power of 2 is 4.\n"
     ]
    },
    {
     "data": {
      "text/plain": [
       "4"
      ]
     },
     "execution_count": 19,
     "metadata": {},
     "output_type": "execute_result"
    }
   ],
   "source": [
    "def power_to(x, y=5):\n",
    "    \"\"\"Function to calculate x raised to the power of y.\"\"\"\n",
    "    result = x ** y\n",
    "    print(f\"{x} raised to the power of {y} is {result}.\")\n",
    "    return result\n",
    "power_to(3)\n",
    "power_to(4, 3)  # Example with a different exponent\n",
    "power_to(2, 2)  # Example with a different exponent"
   ]
  }
 ],
 "metadata": {
  "kernelspec": {
   "display_name": "base",
   "language": "python",
   "name": "python3"
  },
  "language_info": {
   "codemirror_mode": {
    "name": "ipython",
    "version": 3
   },
   "file_extension": ".py",
   "mimetype": "text/x-python",
   "name": "python",
   "nbconvert_exporter": "python",
   "pygments_lexer": "ipython3",
   "version": "3.12.7"
  }
 },
 "nbformat": 4,
 "nbformat_minor": 5
}
