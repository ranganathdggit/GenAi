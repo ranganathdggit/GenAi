{
  "cells": [
    {
      "cell_type": "markdown",
      "metadata": {
        "id": "view-in-github",
        "colab_type": "text"
      },
      "source": [
        "<a href=\"https://colab.research.google.com/github/ranganathdggit/GenAi/blob/GenAi-python-hands-on/Introduction_to_Python_Code.ipynb\" target=\"_parent\"><img src=\"https://colab.research.google.com/assets/colab-badge.svg\" alt=\"Open In Colab\"/></a>"
      ]
    },
    {
      "cell_type": "markdown",
      "id": "22304a9f-9f38-41ee-a654-e5c3e0de41c8",
      "metadata": {
        "id": "22304a9f-9f38-41ee-a654-e5c3e0de41c8"
      },
      "source": [
        "\n",
        "#First Python Program"
      ]
    },
    {
      "cell_type": "code",
      "source": [
        "print(\"Hello world\")"
      ],
      "metadata": {
        "colab": {
          "base_uri": "https://localhost:8080/"
        },
        "id": "43d5NtaypRPf",
        "outputId": "33ca6b88-22f5-4253-9c72-9f9c217ce508"
      },
      "id": "43d5NtaypRPf",
      "execution_count": null,
      "outputs": [
        {
          "output_type": "stream",
          "name": "stdout",
          "text": [
            "Hello world\n"
          ]
        }
      ]
    },
    {
      "cell_type": "code",
      "source": [
        "name = \"Gopinath\"  # string datatype !\n",
        "print(name)"
      ],
      "metadata": {
        "colab": {
          "base_uri": "https://localhost:8080/"
        },
        "id": "KQApb1Gwphxo",
        "outputId": "253765b1-9007-4941-c755-1bab126ca2e3"
      },
      "id": "KQApb1Gwphxo",
      "execution_count": null,
      "outputs": [
        {
          "output_type": "stream",
          "name": "stdout",
          "text": [
            "Gopinath\n"
          ]
        }
      ]
    },
    {
      "cell_type": "code",
      "source": [
        "age = 25      # integer datatype\n",
        "print(age)"
      ],
      "metadata": {
        "colab": {
          "base_uri": "https://localhost:8080/"
        },
        "id": "pzTghGLOppwX",
        "outputId": "79b7882f-ed4d-44a8-b3b0-79b7600edec3"
      },
      "id": "pzTghGLOppwX",
      "execution_count": null,
      "outputs": [
        {
          "output_type": "stream",
          "name": "stdout",
          "text": [
            "25\n"
          ]
        }
      ]
    },
    {
      "cell_type": "code",
      "source": [
        "age = 25\n",
        "age1= \"25\""
      ],
      "metadata": {
        "id": "ezJXFLegqeza"
      },
      "id": "ezJXFLegqeza",
      "execution_count": null,
      "outputs": []
    },
    {
      "cell_type": "code",
      "source": [
        "print(type(age))\n",
        "type(age1)"
      ],
      "metadata": {
        "colab": {
          "base_uri": "https://localhost:8080/"
        },
        "id": "LHsULwOeqjUV",
        "outputId": "27c35956-14c7-45c5-fbfb-a1af26709b8a"
      },
      "id": "LHsULwOeqjUV",
      "execution_count": null,
      "outputs": [
        {
          "output_type": "stream",
          "name": "stdout",
          "text": [
            "<class 'int'>\n"
          ]
        },
        {
          "output_type": "execute_result",
          "data": {
            "text/plain": [
              "str"
            ]
          },
          "metadata": {},
          "execution_count": 7
        }
      ]
    },
    {
      "cell_type": "code",
      "source": [
        "height= 6.2 #this is Float"
      ],
      "metadata": {
        "id": "fx1YzyKHo7dJ"
      },
      "id": "fx1YzyKHo7dJ",
      "execution_count": null,
      "outputs": []
    },
    {
      "cell_type": "code",
      "source": [
        "is_student = True # boolean values!"
      ],
      "metadata": {
        "id": "MUDQAlzRp5Fu"
      },
      "id": "MUDQAlzRp5Fu",
      "execution_count": null,
      "outputs": []
    },
    {
      "cell_type": "code",
      "source": [
        "type(is_student)"
      ],
      "metadata": {
        "colab": {
          "base_uri": "https://localhost:8080/"
        },
        "id": "5zZb5ai-qUXi",
        "outputId": "1f858e0f-74f6-45f9-ba70-8f5072ffc23f"
      },
      "id": "5zZb5ai-qUXi",
      "execution_count": null,
      "outputs": [
        {
          "output_type": "execute_result",
          "data": {
            "text/plain": [
              "bool"
            ]
          },
          "metadata": {},
          "execution_count": 11
        }
      ]
    },
    {
      "cell_type": "code",
      "source": [
        "print(1)\n",
        "print(2)\n",
        "print(3)\n",
        "print(4)\n",
        "print(5)"
      ],
      "metadata": {
        "colab": {
          "base_uri": "https://localhost:8080/"
        },
        "id": "BGre-J9LBfrR",
        "outputId": "fdd49ba9-60fe-4c61-8e00-117671213176"
      },
      "id": "BGre-J9LBfrR",
      "execution_count": null,
      "outputs": [
        {
          "output_type": "stream",
          "name": "stdout",
          "text": [
            "1\n",
            "2\n",
            "3\n",
            "4\n",
            "5\n"
          ]
        }
      ]
    },
    {
      "cell_type": "code",
      "source": [
        "#slicing and indexing!"
      ],
      "metadata": {
        "id": "bA6b-XRnCXUW"
      },
      "id": "bA6b-XRnCXUW",
      "execution_count": null,
      "outputs": []
    },
    {
      "cell_type": "code",
      "source": [
        "# start:stop:step"
      ],
      "metadata": {
        "id": "VsCmoz-BBvkw"
      },
      "id": "VsCmoz-BBvkw",
      "execution_count": null,
      "outputs": []
    },
    {
      "cell_type": "code",
      "source": [
        "for i in range(0, 6):\n",
        "  print(i)"
      ],
      "metadata": {
        "colab": {
          "base_uri": "https://localhost:8080/"
        },
        "id": "lhiCpsnuBkEB",
        "outputId": "eb306d82-b354-4510-f4ed-dc971582f6b3"
      },
      "id": "lhiCpsnuBkEB",
      "execution_count": null,
      "outputs": [
        {
          "output_type": "stream",
          "name": "stdout",
          "text": [
            "0\n",
            "1\n",
            "2\n",
            "3\n",
            "4\n",
            "5\n"
          ]
        }
      ]
    },
    {
      "cell_type": "code",
      "execution_count": null,
      "id": "b692859c-31bb-4687-8644-e609c75397bb",
      "metadata": {
        "id": "b692859c-31bb-4687-8644-e609c75397bb",
        "colab": {
          "base_uri": "https://localhost:8080/"
        },
        "outputId": "8d9ef591-e078-4cf7-c908-5008fb93f7fd"
      },
      "outputs": [
        {
          "output_type": "stream",
          "name": "stdout",
          "text": [
            "Hello WorldHello WorldHello WorldHello WorldHello WorldHello WorldHello WorldHello WorldHello WorldHello WorldHello WorldHello WorldHello WorldHello WorldHello WorldHello WorldHello WorldHello WorldHello WorldHello World\n"
          ]
        }
      ],
      "source": [
        "print(\"Hello World\"*20)"
      ]
    },
    {
      "cell_type": "markdown",
      "id": "78d2397c-7acb-438c-9025-41e59523da50",
      "metadata": {
        "id": "78d2397c-7acb-438c-9025-41e59523da50"
      },
      "source": [
        "# Python Variables\n"
      ]
    },
    {
      "cell_type": "code",
      "source": [
        "#names in vairables!\n",
        "#dont add digits special chars in the vairables!\n",
        "first_name_of_the_student = \"sau\"\n",
        "\n"
      ],
      "metadata": {
        "id": "dOjMkTqJqr-4"
      },
      "id": "dOjMkTqJqr-4",
      "execution_count": null,
      "outputs": []
    },
    {
      "cell_type": "code",
      "source": [
        "number = 3 + 10\n",
        "print(number)"
      ],
      "metadata": {
        "id": "Z3mHmIafsAzD",
        "colab": {
          "base_uri": "https://localhost:8080/"
        },
        "outputId": "0495b552-a3c6-42ff-d6be-3c389b041e4a"
      },
      "id": "Z3mHmIafsAzD",
      "execution_count": null,
      "outputs": [
        {
          "output_type": "stream",
          "name": "stdout",
          "text": [
            "13\n"
          ]
        }
      ]
    },
    {
      "cell_type": "code",
      "source": [
        "print(\"the number entered by user is \", number)\n",
        "print(\"and the type of the given number is :\", type(number))"
      ],
      "metadata": {
        "colab": {
          "base_uri": "https://localhost:8080/"
        },
        "id": "vqpGaoQHr9wI",
        "outputId": "5dea31b4-660f-45fd-cbcc-503a77d840a2"
      },
      "id": "vqpGaoQHr9wI",
      "execution_count": null,
      "outputs": [
        {
          "output_type": "stream",
          "name": "stdout",
          "text": [
            "the number entered by user is  13\n",
            "and the type of the given number is : <class 'int'>\n"
          ]
        }
      ]
    },
    {
      "cell_type": "code",
      "execution_count": null,
      "id": "516f8cbe-2825-42ee-88dc-09c4606d8818",
      "metadata": {
        "colab": {
          "base_uri": "https://localhost:8080/"
        },
        "id": "516f8cbe-2825-42ee-88dc-09c4606d8818",
        "outputId": "4992cde2-eaaa-4e49-a597-83408d26aa1d"
      },
      "outputs": [
        {
          "output_type": "stream",
          "name": "stdout",
          "text": [
            "number:  10\n",
            "Type of number : <class 'int'>. This number is good.\n",
            "Before\n",
            "name\n",
            "1\n",
            "1.0\n",
            "Type of c : <class 'float'>\n",
            "After\n",
            "5\n",
            "3.2\n",
            "Hello\n"
          ]
        }
      ],
      "source": [
        "number = 10\n",
        "print(\"number: \", number)\n",
        "\n",
        "print(f\"Type of number : {type(number)}. This number is good.\")\n",
        "\n",
        "# print(\"Type of number : \",type(number))\n",
        "a = \"name\"\n",
        "b = 1\n",
        "c = 1.0\n",
        "print(\"Before\")\n",
        "print(a)\n",
        "print(b)\n",
        "print(c)\n",
        "print(f\"Type of c : {type(c)}\")\n",
        "\n",
        "\n",
        "a, b, c = 5, 3.2, \"Hello\"\n",
        "print(\"After\")\n",
        "print(a)\n",
        "print(b)\n",
        "print(c)"
      ]
    },
    {
      "cell_type": "markdown",
      "id": "b9f1f10f-ed44-4c6f-a9d5-1f0743b2c6cb",
      "metadata": {
        "id": "b9f1f10f-ed44-4c6f-a9d5-1f0743b2c6cb"
      },
      "source": [
        "# Data Types"
      ]
    },
    {
      "cell_type": "code",
      "source": [
        "for i in range(1,6):\n",
        "  print(i)"
      ],
      "metadata": {
        "colab": {
          "base_uri": "https://localhost:8080/"
        },
        "id": "HMk8TSaVuPJb",
        "outputId": "1439ab90-033d-4316-b384-cd05a571c8e8"
      },
      "id": "HMk8TSaVuPJb",
      "execution_count": null,
      "outputs": [
        {
          "output_type": "stream",
          "name": "stdout",
          "text": [
            "1\n",
            "2\n",
            "3\n",
            "4\n",
            "5\n"
          ]
        }
      ]
    },
    {
      "cell_type": "code",
      "source": [
        "memory_view_example = memoryview(b'binary data')  # memory view\n",
        "memory_view_example"
      ],
      "metadata": {
        "colab": {
          "base_uri": "https://localhost:8080/"
        },
        "id": "3smr0J0auPHC",
        "outputId": "90de5e8e-488b-4d54-8e36-2789c1a52fea"
      },
      "id": "3smr0J0auPHC",
      "execution_count": null,
      "outputs": [
        {
          "output_type": "execute_result",
          "data": {
            "text/plain": [
              "<memory at 0x7870736c1f00>"
            ]
          },
          "metadata": {},
          "execution_count": 71
        }
      ]
    },
    {
      "cell_type": "code",
      "execution_count": null,
      "id": "f1b1b6e2-c6a6-423b-8374-4cd2424aebe8",
      "metadata": {
        "colab": {
          "base_uri": "https://localhost:8080/"
        },
        "id": "f1b1b6e2-c6a6-423b-8374-4cd2424aebe8",
        "outputId": "3cb29ab7-76bf-4ba9-d166-0d88908902bd"
      },
      "outputs": [
        {
          "output_type": "stream",
          "name": "stdout",
          "text": [
            "Numeric Data Types:\n",
            "Integer: 10, Type: <class 'int'>\n",
            "Float: 3.14, Type: <class 'float'>\n",
            "Complex: (2+3j), Type: <class 'complex'>\n",
            "\n",
            "String Data Type:\n",
            "String: Hello, World!, Type: <class 'str'>\n",
            "\n",
            "Sequence Types:\n",
            "List: [1, 2, 3, 4, 5], Type: <class 'list'>\n",
            "Tuple: (1, 2, 3, 4, 5), Type: <class 'tuple'>\n",
            "Range: [1, 2, 3, 4, 5], Type: <class 'range'>\n",
            "\n",
            "Binary Types:\n",
            "Bytes: b'binary data', Type: <class 'bytes'>\n",
            "Byte Array: bytearray(b'binary data'), Type: <class 'bytearray'>\n",
            "Memory View: <memory at 0x78709ae8af80>, Type: <class 'memoryview'>\n",
            "\n",
            "Mapping Data Type:\n",
            "Dictionary: {'key1': 'value1', 'key2': 'value2'}, Type: <class 'dict'>\n",
            "\n",
            "Boolean Type:\n",
            "Boolean: True, Type: <class 'bool'>\n",
            "\n",
            "Set Data Types:\n",
            "Set: {1, 2, 3, 4, 5}, Type: <class 'set'>\n",
            "Frozenset: frozenset({1, 2, 3, 4, 5}), Type: <class 'frozenset'>\n"
          ]
        }
      ],
      "source": [
        "# Numeric Data Types: int, float, complex\n",
        "integer_number = 10  # int\n",
        "float_number = 3.14  # float\n",
        "complex_number = 2 + 3j  # complex\n",
        "\n",
        "# String Data Type: str\n",
        "string_variable = \"Hello, World!\"\n",
        "\n",
        "# Sequence Types: list, tuple, range\n",
        "list_example = [1, 2, 3, 4, 5]  # list\n",
        "tuple_example = (1, 2, 3, 4, 5)  # tuple\n",
        "range_example = range(1, 6)  # range\n",
        "\n",
        "# Binary Types: bytes, byte array, memory view\n",
        "bytes_example = b'binary data'  # bytes\n",
        "byte_array_example = bytearray(b'binary data')  # bytearray\n",
        "memory_view_example = memoryview(b'binary data')  # memory view\n",
        "\n",
        "# Mapping Data Type: dict\n",
        "dictionary_example = {'key1': ['value1','value3'], 'key2': 'value2'}\n",
        "\n",
        "# Boolean Type: bool\n",
        "boolean_variable = True\n",
        "\n",
        "# Set Data Types: set, frozenset\n",
        "set_example = {1, 2, 3, 4, 5}  # set\n",
        "frozenset_example = frozenset({1, 2, 3, 4, 5})  # frozenset\n",
        "\n",
        "# Printing the values and types of each variable\n",
        "print(\"Numeric Data Types:\")\n",
        "print(f\"Integer: {integer_number}, Type: {type(integer_number)}\")\n",
        "print(f\"Float: {float_number}, Type: {type(float_number)}\")\n",
        "print(f\"Complex: {complex_number}, Type: {type(complex_number)}\\n\")\n",
        "\n",
        "print(\"String Data Type:\")\n",
        "print(f\"String: {string_variable}, Type: {type(string_variable)}\\n\")\n",
        "\n",
        "print(\"Sequence Types:\")\n",
        "print(f\"List: {list_example}, Type: {type(list_example)}\")\n",
        "print(f\"Tuple: {tuple_example}, Type: {type(tuple_example)}\")\n",
        "print(f\"Range: {list(range_example)}, Type: {type(range_example)}\\n\")\n",
        "\n",
        "print(\"Binary Types:\")\n",
        "print(f\"Bytes: {bytes_example}, Type: {type(bytes_example)}\")\n",
        "print(f\"Byte Array: {byte_array_example}, Type: {type(byte_array_example)}\")\n",
        "print(f\"Memory View: {memory_view_example}, Type: {type(memory_view_example)}\\n\")\n",
        "\n",
        "print(\"Mapping Data Type:\")\n",
        "print(f\"Dictionary: {dictionary_example}, Type: {type(dictionary_example)}\\n\")\n",
        "\n",
        "print(\"Boolean Type:\")\n",
        "print(f\"Boolean: {boolean_variable}, Type: {type(boolean_variable)}\\n\")\n",
        "\n",
        "print(\"Set Data Types:\")\n",
        "print(f\"Set: {set_example}, Type: {type(set_example)}\")\n",
        "print(f\"Frozenset: {frozenset_example}, Type: {type(frozenset_example)}\")"
      ]
    },
    {
      "cell_type": "markdown",
      "id": "164af8dc-81d8-4785-b93e-39d9570e6eaa",
      "metadata": {
        "id": "164af8dc-81d8-4785-b93e-39d9570e6eaa"
      },
      "source": [
        "# Inputs and Outputs in python-"
      ]
    },
    {
      "cell_type": "code",
      "source": [
        "# take the user i/p\n",
        "#ask his sal\n",
        "# ask his first name ,\n",
        "#ask his last name , email!\n",
        "#once you get the values greet the user with thank you for your response!"
      ],
      "metadata": {
        "id": "mFEveAhVveIm"
      },
      "id": "mFEveAhVveIm",
      "execution_count": null,
      "outputs": []
    },
    {
      "cell_type": "code",
      "source": [
        "# inter , float , string"
      ],
      "metadata": {
        "id": "1e1wpxq2Cr1m"
      },
      "id": "1e1wpxq2Cr1m",
      "execution_count": null,
      "outputs": []
    },
    {
      "cell_type": "code",
      "source": [
        "1.8 1.2 1. 5.3"
      ],
      "metadata": {
        "id": "-NCoBzDNC2k5"
      },
      "id": "-NCoBzDNC2k5",
      "execution_count": null,
      "outputs": []
    },
    {
      "cell_type": "code",
      "source": [
        "# name = \"avi\"\n",
        "print(\"avi\")"
      ],
      "metadata": {
        "colab": {
          "base_uri": "https://localhost:8080/"
        },
        "id": "aoYAjTdsDOM0",
        "outputId": "fecc250e-eaa4-4a18-a6b5-a93fd4da8455"
      },
      "id": "aoYAjTdsDOM0",
      "execution_count": null,
      "outputs": [
        {
          "output_type": "stream",
          "name": "stdout",
          "text": [
            "avi\n"
          ]
        }
      ]
    },
    {
      "cell_type": "code",
      "source": [
        "salary =10000\n",
        "first_name = \"avi\"\n",
        "last_name = \"john\"\n",
        "email = \"xyz@gmail.com\""
      ],
      "metadata": {
        "id": "ED3zdk6jw2TS"
      },
      "id": "ED3zdk6jw2TS",
      "execution_count": null,
      "outputs": []
    },
    {
      "cell_type": "code",
      "source": [
        "print(salary, first_name, last_name, email)"
      ],
      "metadata": {
        "colab": {
          "base_uri": "https://localhost:8080/"
        },
        "id": "NZ6vEKFRD1-p",
        "outputId": "d405e419-bda1-4d1f-f941-aa60ab59eead"
      },
      "id": "NZ6vEKFRD1-p",
      "execution_count": null,
      "outputs": [
        {
          "output_type": "stream",
          "name": "stdout",
          "text": [
            "10000 avi john xyz@gmail.com\n"
          ]
        }
      ]
    },
    {
      "cell_type": "code",
      "source": [
        "print(\"Salry entered is\",salary, \"the first name entered is\", first_name, \"last name entered is\",last_name, \"email is\",email)\n"
      ],
      "metadata": {
        "colab": {
          "base_uri": "https://localhost:8080/"
        },
        "id": "c2o0e-iew_GK",
        "outputId": "1ce80f26-6931-4837-bec9-6f1a1d000593"
      },
      "id": "c2o0e-iew_GK",
      "execution_count": null,
      "outputs": [
        {
          "output_type": "stream",
          "name": "stdout",
          "text": [
            "Salry entered is 10000 the first name entered is avi last name entered is john email is xyz@gmail.com\n"
          ]
        }
      ]
    },
    {
      "cell_type": "code",
      "source": [
        "name = input(\"enter your first name:\")"
      ],
      "metadata": {
        "colab": {
          "base_uri": "https://localhost:8080/"
        },
        "id": "9_ZwzSUBDhrF",
        "outputId": "42d5c9fc-fdd4-465e-f6f5-e82087c9c901"
      },
      "id": "9_ZwzSUBDhrF",
      "execution_count": null,
      "outputs": [
        {
          "name": "stdout",
          "output_type": "stream",
          "text": [
            "enter your first name:Ananya\n"
          ]
        }
      ]
    },
    {
      "cell_type": "code",
      "source": [
        "sal_2 = int(input(\"enter the sal 2:\"))\n",
        "print(sal_2)"
      ],
      "metadata": {
        "colab": {
          "base_uri": "https://localhost:8080/"
        },
        "id": "A13U8Jx4EZxq",
        "outputId": "5a791d65-759f-4ab8-fa3f-69098f90c2a2"
      },
      "id": "A13U8Jx4EZxq",
      "execution_count": null,
      "outputs": [
        {
          "output_type": "stream",
          "name": "stdout",
          "text": [
            "enter the sal 2:5000\n",
            "5000\n"
          ]
        }
      ]
    },
    {
      "cell_type": "code",
      "source": [
        "salary = int((input(\"enter your sal:\")))\n",
        "print(salary)"
      ],
      "metadata": {
        "colab": {
          "base_uri": "https://localhost:8080/"
        },
        "id": "T-h8q7K0EJHq",
        "outputId": "e4e9d6bf-2433-4fcd-b655-1e317c3b52bf"
      },
      "id": "T-h8q7K0EJHq",
      "execution_count": null,
      "outputs": [
        {
          "output_type": "stream",
          "name": "stdout",
          "text": [
            "enter your sal:2000\n",
            "2000\n"
          ]
        }
      ]
    },
    {
      "cell_type": "code",
      "source": [
        "print(\"the combined salary of both the emps is\",sal_2+salary)"
      ],
      "metadata": {
        "colab": {
          "base_uri": "https://localhost:8080/"
        },
        "id": "H6Yehl8HEhCQ",
        "outputId": "482a1b26-9eb9-4a97-c210-b53569515b65"
      },
      "id": "H6Yehl8HEhCQ",
      "execution_count": null,
      "outputs": [
        {
          "output_type": "stream",
          "name": "stdout",
          "text": [
            "the combined salary of both the emps is 7000\n"
          ]
        }
      ]
    },
    {
      "cell_type": "code",
      "source": [
        "type(salary)"
      ],
      "metadata": {
        "colab": {
          "base_uri": "https://localhost:8080/"
        },
        "id": "BqMgU433EVO-",
        "outputId": "ddaeae83-f82e-4ded-b8e3-ef0be97ef4b5"
      },
      "id": "BqMgU433EVO-",
      "execution_count": null,
      "outputs": [
        {
          "output_type": "execute_result",
          "data": {
            "text/plain": [
              "int"
            ]
          },
          "metadata": {},
          "execution_count": 30
        }
      ]
    },
    {
      "cell_type": "code",
      "source": [
        "salary = int(input(\"Enter your salary:\"))\n",
        "first_name = input(\"Enter your first name:\")\n",
        "last_name = input(\"Enter your last name:\")\n",
        "email = input(\"Enter your email:\")\n",
        "print(salary, first_name, last_name, email)\n",
        "print(\"Thank you for your response!\")"
      ],
      "metadata": {
        "colab": {
          "base_uri": "https://localhost:8080/"
        },
        "id": "1C_mNIsdveGS",
        "outputId": "20b55463-7fe0-475a-d8de-4249a35c82af"
      },
      "id": "1C_mNIsdveGS",
      "execution_count": null,
      "outputs": [
        {
          "output_type": "stream",
          "name": "stdout",
          "text": [
            "Enter your salary:100000\n",
            "Enter your first name:avi\n",
            "Enter your last name:john\n",
            "Enter your email:xyz@gmail.com\n",
            "100000 avi john xyz@gmail.com\n",
            "Thank you for your response!\n"
          ]
        }
      ]
    },
    {
      "cell_type": "code",
      "source": [
        "print(f\"salary entered in {salary}, then the first name is {first_name}, the last name is {last_name} the email is {email}\")"
      ],
      "metadata": {
        "colab": {
          "base_uri": "https://localhost:8080/"
        },
        "id": "hdzoGU5DveB_",
        "outputId": "8d289c0b-ee13-4005-ad23-92dc8e3982ab"
      },
      "id": "hdzoGU5DveB_",
      "execution_count": null,
      "outputs": [
        {
          "output_type": "stream",
          "name": "stdout",
          "text": [
            "salary entered in 1, then the first name is a, the last name is s the email is d\n"
          ]
        }
      ]
    },
    {
      "cell_type": "code",
      "execution_count": null,
      "id": "d42cab28-e1d1-4711-8e7f-e81ca4a2b2ab",
      "metadata": {
        "colab": {
          "base_uri": "https://localhost:8080/"
        },
        "id": "d42cab28-e1d1-4711-8e7f-e81ca4a2b2ab",
        "outputId": "a61299f0-3e39-435f-aac1-951f844b1e58"
      },
      "outputs": [
        {
          "output_type": "stream",
          "name": "stdout",
          "text": [
            "Enter your name: asd\n",
            "Enter your age: 12\n",
            "type of age is <class 'int'>\n",
            "Hello, asd!\n",
            "Your age is 12 years.\n",
            "Twice your age is 24.\n",
            "Enter the first number: 1\n",
            "Enter the second number: 2\n",
            "The sum of 1.0 and 2.0 is 3.0.\n"
          ]
        }
      ],
      "source": [
        "# Taking user input\n",
        "name = input(\"Enter your name: \")  # Input function returns a string\n",
        "\n",
        "# Taking numerical input and converting it to an integer\n",
        "age =int(input(\"Enter your age: \"))\n",
        "print(\"type of age is\",type(age))\n",
        "# Performing some operation\n",
        "double_age = (age) * 2\n",
        "\n",
        "# Displaying output\n",
        "print(f\"Hello, {name}!\")\n",
        "print(f\"Your age is {age} years.\")\n",
        "print(f\"Twice your age is {double_age}.\")\n",
        "\n",
        "# Using multiple inputs\n",
        "\n",
        "num1 = float(input(\"Enter the first number: \"))\n",
        "num2 = float(input(\"Enter the second number: \"))\n",
        "\n",
        "# Performing an operation\n",
        "sum_result = num1 + num2\n",
        "\n",
        "# Displaying the result\n",
        "print(f\"The sum of {num1} and {num2} is {sum_result}.\")\n"
      ]
    },
    {
      "cell_type": "markdown",
      "id": "13134983-6710-450d-8ad8-a5a7f9859b7b",
      "metadata": {
        "id": "13134983-6710-450d-8ad8-a5a7f9859b7b"
      },
      "source": [
        "# Import in python"
      ]
    },
    {
      "cell_type": "code",
      "source": [
        "math.sqrt(25)"
      ],
      "metadata": {
        "colab": {
          "base_uri": "https://localhost:8080/"
        },
        "id": "jXfVG9c3y8zY",
        "outputId": "36504359-f299-4c15-8ade-faa9842190ec"
      },
      "id": "jXfVG9c3y8zY",
      "execution_count": null,
      "outputs": [
        {
          "output_type": "execute_result",
          "data": {
            "text/plain": [
              "5.0"
            ]
          },
          "metadata": {},
          "execution_count": 99
        }
      ]
    },
    {
      "cell_type": "code",
      "execution_count": null,
      "id": "8be8f8ca-6cc1-4927-a6f7-4f8d91413d0c",
      "metadata": {
        "colab": {
          "base_uri": "https://localhost:8080/"
        },
        "id": "8be8f8ca-6cc1-4927-a6f7-4f8d91413d0c",
        "outputId": "5c092093-ca53-4886-9811-efe4abe33615"
      },
      "outputs": [
        {
          "output_type": "stream",
          "name": "stdout",
          "text": [
            "3.141592653589793\n"
          ]
        }
      ],
      "source": [
        "import math\n",
        "print(math.pi)"
      ]
    },
    {
      "cell_type": "code",
      "source": [
        "math.factorial(4)"
      ],
      "metadata": {
        "colab": {
          "base_uri": "https://localhost:8080/"
        },
        "id": "3WftzRj1zCKp",
        "outputId": "f3ed13f1-7b7e-47bc-fe91-3584177fb78d"
      },
      "id": "3WftzRj1zCKp",
      "execution_count": null,
      "outputs": [
        {
          "output_type": "execute_result",
          "data": {
            "text/plain": [
              "24"
            ]
          },
          "metadata": {},
          "execution_count": 101
        }
      ]
    },
    {
      "cell_type": "markdown",
      "id": "cf0ea546-652f-4175-b6e2-4218ca19d06e",
      "metadata": {
        "id": "cf0ea546-652f-4175-b6e2-4218ca19d06e"
      },
      "source": [
        "# If-else in python-"
      ]
    },
    {
      "cell_type": "code",
      "source": [
        "if 1>0:\n",
        "  print(\"true\")\n",
        "else:\n",
        "  print(\"false\")"
      ],
      "metadata": {
        "colab": {
          "base_uri": "https://localhost:8080/"
        },
        "id": "O8UsNO1vzk9w",
        "outputId": "d7815863-5e51-4370-a07d-5778b2cee0a1"
      },
      "id": "O8UsNO1vzk9w",
      "execution_count": null,
      "outputs": [
        {
          "output_type": "stream",
          "name": "stdout",
          "text": [
            "true\n"
          ]
        }
      ]
    },
    {
      "cell_type": "code",
      "source": [
        "marks = int(input(\"Enter a number: \"))\n",
        "\n",
        "if marks > 90:\n",
        "  print(\"congrutations you got A grade\")\n",
        "elif marks > 80 and marks <= 90:\n",
        "  print(\"congrutations you got B grade\")\n",
        "elif marks > 70 and marks <= 80:\n",
        "  print(\"congrutations you got C grade\")\n",
        "elif marks > 60 and marks <= 70:\n",
        "  print(\"congrutations you got D grade\")\n",
        "else:\n",
        "  print(\"Sorry you failed\")"
      ],
      "metadata": {
        "colab": {
          "base_uri": "https://localhost:8080/"
        },
        "id": "tLXPnBo60Iw0",
        "outputId": "98419a2e-0f30-4d79-e843-4f029af01720"
      },
      "id": "tLXPnBo60Iw0",
      "execution_count": null,
      "outputs": [
        {
          "output_type": "stream",
          "name": "stdout",
          "text": [
            "Enter a number: 90\n",
            "congrutations you got B grade\n"
          ]
        }
      ]
    },
    {
      "cell_type": "code",
      "execution_count": null,
      "id": "60436c1c-a5b4-4ffc-8042-25edc1f591e2",
      "metadata": {
        "colab": {
          "base_uri": "https://localhost:8080/"
        },
        "id": "60436c1c-a5b4-4ffc-8042-25edc1f591e2",
        "outputId": "318da52d-a08a-424f-f4c1-317bc2beb541"
      },
      "outputs": [
        {
          "output_type": "stream",
          "name": "stdout",
          "text": [
            "Enter a number: -45\n",
            "The number is negative.\n"
          ]
        }
      ],
      "source": [
        "# Taking user input\n",
        "number = int(input(\"Enter a number: \"))\n",
        "\n",
        "# Checking if the number is positive, negative, or zero\n",
        "if number > 0:\n",
        "    print(\"The number is positive.\")\n",
        "elif (number < 0):\n",
        "    print(\"The number is negative.\")\n",
        "else:\n",
        "    print(\"The number is zero.\")\n"
      ]
    },
    {
      "cell_type": "markdown",
      "id": "e556fdca-a485-4e38-b8e3-0e51e63c67b5",
      "metadata": {
        "id": "e556fdca-a485-4e38-b8e3-0e51e63c67b5"
      },
      "source": [
        "# Loops in python-\n",
        "\n",
        "This program covers a variety of loop scenarios:\n",
        "\n",
        "Iterating over a list using a for loop.\n",
        "Using range() in a for loop.\n",
        "Using a while loop to print numbers 1 to 5.\n",
        "Demonstrating the use of break and continue statements in a loop.\n",
        "Showing the else clause in a loop."
      ]
    },
    {
      "cell_type": "code",
      "source": [
        "print(range(10))"
      ],
      "metadata": {
        "colab": {
          "base_uri": "https://localhost:8080/"
        },
        "id": "J0wP4uYH1_ra",
        "outputId": "edc8d6fb-5092-4748-f732-a2471602c1e0"
      },
      "id": "J0wP4uYH1_ra",
      "execution_count": null,
      "outputs": [
        {
          "output_type": "stream",
          "name": "stdout",
          "text": [
            "range(0, 10)\n"
          ]
        }
      ]
    },
    {
      "cell_type": "code",
      "source": [
        "# slicing and index"
      ],
      "metadata": {
        "id": "Wbi1RZFV18Ja"
      },
      "id": "Wbi1RZFV18Ja",
      "execution_count": null,
      "outputs": []
    },
    {
      "cell_type": "code",
      "source": [
        "for i in range(1,5):\n",
        "  print(i)"
      ],
      "metadata": {
        "colab": {
          "base_uri": "https://localhost:8080/"
        },
        "id": "zg3GnvnJ151Y",
        "outputId": "ab349176-e2ad-4a3d-d0db-09007444f47c"
      },
      "id": "zg3GnvnJ151Y",
      "execution_count": null,
      "outputs": [
        {
          "output_type": "stream",
          "name": "stdout",
          "text": [
            "1\n",
            "2\n",
            "3\n",
            "4\n"
          ]
        }
      ]
    },
    {
      "cell_type": "code",
      "source": [
        "l1 = [1,2,3,4,5,6,7]"
      ],
      "metadata": {
        "id": "3fhCGoj0HtXu"
      },
      "id": "3fhCGoj0HtXu",
      "execution_count": null,
      "outputs": []
    },
    {
      "cell_type": "code",
      "source": [
        "l1[2:2]"
      ],
      "metadata": {
        "colab": {
          "base_uri": "https://localhost:8080/"
        },
        "id": "ZWfht6dWH5Md",
        "outputId": "4bc4c13f-e702-42cf-dc2d-a2fd31efc49a"
      },
      "id": "ZWfht6dWH5Md",
      "execution_count": null,
      "outputs": [
        {
          "output_type": "execute_result",
          "data": {
            "text/plain": [
              "[]"
            ]
          },
          "metadata": {},
          "execution_count": 63
        }
      ]
    },
    {
      "cell_type": "code",
      "source": [
        "for i in range(1, 11):\n",
        "  print(i)"
      ],
      "metadata": {
        "colab": {
          "base_uri": "https://localhost:8080/"
        },
        "id": "YAl6R6892NUH",
        "outputId": "70bcb99a-c060-4b1e-e374-832e928bb903"
      },
      "id": "YAl6R6892NUH",
      "execution_count": null,
      "outputs": [
        {
          "output_type": "stream",
          "name": "stdout",
          "text": [
            "1\n",
            "2\n",
            "3\n",
            "4\n",
            "5\n",
            "6\n",
            "7\n",
            "8\n",
            "9\n",
            "10\n"
          ]
        }
      ]
    },
    {
      "cell_type": "code",
      "source": [
        "print(1)\n",
        "print(2)\n",
        "print(3)\n",
        "print(4)\n",
        "print(5)"
      ],
      "metadata": {
        "colab": {
          "base_uri": "https://localhost:8080/"
        },
        "id": "BtTG2xH11OzM",
        "outputId": "5726fa6e-e847-4fa7-8af3-5c5f4e2c6a8a"
      },
      "id": "BtTG2xH11OzM",
      "execution_count": null,
      "outputs": [
        {
          "output_type": "stream",
          "name": "stdout",
          "text": [
            "1\n",
            "2\n",
            "3\n",
            "4\n",
            "5\n"
          ]
        }
      ]
    },
    {
      "cell_type": "code",
      "source": [
        "fruits = [\"apple\", \"banana\", \"cherry\", \"guava\", \"watermelon\", \"mango\"]\n",
        "fruits[(0)]"
      ],
      "metadata": {
        "id": "k7jssV6c2owL",
        "colab": {
          "base_uri": "https://localhost:8080/",
          "height": 35
        },
        "outputId": "6688a09d-76ad-4672-ea11-f78d912f59ff"
      },
      "id": "k7jssV6c2owL",
      "execution_count": null,
      "outputs": [
        {
          "output_type": "execute_result",
          "data": {
            "text/plain": [
              "'apple'"
            ],
            "application/vnd.google.colaboratory.intrinsic+json": {
              "type": "string"
            }
          },
          "metadata": {},
          "execution_count": 52
        }
      ]
    },
    {
      "cell_type": "code",
      "source": [
        "print(fruits[0])\n",
        "print(fruits[1])\n",
        "print(fruits[2])\n"
      ],
      "metadata": {
        "colab": {
          "base_uri": "https://localhost:8080/"
        },
        "id": "oypaS81s2sZt",
        "outputId": "e6bb2d65-87ad-4934-c644-d946d69e1be2"
      },
      "id": "oypaS81s2sZt",
      "execution_count": null,
      "outputs": [
        {
          "output_type": "stream",
          "name": "stdout",
          "text": [
            "apple\n",
            "banana\n",
            "cherry\n"
          ]
        }
      ]
    },
    {
      "cell_type": "code",
      "source": [
        "for fruit in fruits:\n",
        "  print(fruit,end  = \" , \")"
      ],
      "metadata": {
        "colab": {
          "base_uri": "https://localhost:8080/"
        },
        "id": "bli7Naqj2_eh",
        "outputId": "799ba9f5-761a-4afb-d1ca-2d043fbd6e4d"
      },
      "id": "bli7Naqj2_eh",
      "execution_count": null,
      "outputs": [
        {
          "output_type": "stream",
          "name": "stdout",
          "text": [
            "apple , banana , cherry , guava , watermelon , mango , "
          ]
        }
      ]
    },
    {
      "cell_type": "code",
      "source": [
        "# Using range in a for loop\n",
        "print(\"\\nUsing Range in For Loop:\")\n",
        "for i in range(1, 6):  # Range from 1 to 5\n",
        "    print(i)"
      ],
      "metadata": {
        "id": "48yyl4r_3MT5",
        "outputId": "ec65f319-9f9c-42f2-8d93-046829f39e4d",
        "colab": {
          "base_uri": "https://localhost:8080/"
        }
      },
      "id": "48yyl4r_3MT5",
      "execution_count": null,
      "outputs": [
        {
          "output_type": "stream",
          "name": "stdout",
          "text": [
            "\n",
            "Using Range in For Loop:\n",
            "1\n",
            "2\n",
            "3\n",
            "4\n",
            "5\n"
          ]
        }
      ]
    },
    {
      "cell_type": "code",
      "source": [
        "# For Loop Example\n",
        "print(\"For Loop Example:\")\n",
        "fruits = [\"apple\", \"banana\", \"cherry\"]\n",
        "\n",
        "# Iterating over a list using a for loop\n",
        "for fruit in fruits:\n",
        "    print(f\"Current fruit: {fruit}\")"
      ],
      "metadata": {
        "colab": {
          "base_uri": "https://localhost:8080/"
        },
        "id": "GTQat15nIsFI",
        "outputId": "675506db-0315-4589-a2d4-ac1d3fbdc929"
      },
      "id": "GTQat15nIsFI",
      "execution_count": null,
      "outputs": [
        {
          "output_type": "stream",
          "name": "stdout",
          "text": [
            "For Loop Example:\n",
            "Current fruit: apple\n",
            "Current fruit: banana\n",
            "Current fruit: cherry\n"
          ]
        }
      ]
    },
    {
      "cell_type": "code",
      "source": [
        "# bus_arriveed = False\n",
        "# while not bus_arriveed:\n",
        "#   print(\"keep waiting for the bus.....\")\n",
        "\n",
        "  # bus_arriveed = True\n",
        "\n",
        "i = 0\n",
        "while i<=10:\n",
        "  print(\"done\")\n",
        "  i=i+1"
      ],
      "metadata": {
        "colab": {
          "base_uri": "https://localhost:8080/"
        },
        "id": "tjeTKv94KLSp",
        "outputId": "50110ee7-6a5d-42cb-adbc-1a6eb8f2b4b5"
      },
      "id": "tjeTKv94KLSp",
      "execution_count": null,
      "outputs": [
        {
          "output_type": "stream",
          "name": "stdout",
          "text": [
            "done\n",
            "done\n",
            "done\n",
            "done\n",
            "done\n",
            "done\n",
            "done\n",
            "done\n",
            "done\n",
            "done\n",
            "done\n"
          ]
        }
      ]
    },
    {
      "cell_type": "code",
      "execution_count": null,
      "id": "39dffe44-d590-4673-8dbf-b22e415efd63",
      "metadata": {
        "colab": {
          "base_uri": "https://localhost:8080/"
        },
        "id": "39dffe44-d590-4673-8dbf-b22e415efd63",
        "outputId": "b5fd3f51-92f4-4587-d2e8-591c7c0f48c0"
      },
      "outputs": [
        {
          "name": "stdout",
          "output_type": "stream",
          "text": [
            "For Loop Example:\n",
            "Current fruit: apple\n",
            "Current fruit: banana\n",
            "Current fruit: cherry\n",
            "\n",
            "Using Range in For Loop:\n",
            "1\n",
            "2\n",
            "3\n",
            "4\n",
            "5\n",
            "\n",
            "While Loop Example:\n",
            "1\n",
            "2\n",
            "3\n",
            "4\n",
            "5\n",
            "\n",
            "Break and Continue Example:\n",
            "0\n",
            "1\n",
            "2\n",
            "Skipping 3\n",
            "4\n",
            "5\n",
            "6\n",
            "7\n",
            "Breaking at 8\n",
            "\n",
            "Else Clause in Loop Example:\n",
            "0\n",
            "1\n",
            "2\n",
            "3\n",
            "4\n",
            "Loop completed without a break.\n"
          ]
        }
      ],
      "source": [
        "# For Loop Example\n",
        "print(\"For Loop Example:\")\n",
        "fruits = [\"apple\", \"banana\", \"cherry\"]\n",
        "\n",
        "# Iterating over a list using a for loop\n",
        "for fruit in fruits:\n",
        "    print(f\"Current fruit: {fruit}\")\n",
        "\n",
        "# Using range in a for loop\n",
        "print(\"\\nUsing Range in For Loop:\")\n",
        "for i in range(1, 6):  # Range from 1 to 5\n",
        "    print(i)\n",
        "\n",
        "# While Loop Example\n",
        "print(\"\\nWhile Loop Example:\")\n",
        "num = 1\n",
        "\n",
        "# Using a while loop to print numbers 1 to 5\n",
        "while num <= 5:\n",
        "    print(num)\n",
        "    num += 1\n",
        "\n",
        "# Break and Continue Example\n",
        "print(\"\\nBreak and Continue Example:\")\n",
        "for i in range(10):\n",
        "    if i == 3:\n",
        "        print(\"Skipping 3\")\n",
        "        continue\n",
        "    elif i == 8:\n",
        "        print(\"Breaking at 8\")\n",
        "        break\n",
        "    print(i)\n",
        "\n",
        "# Else Clause in Loop Example\n",
        "print(\"\\nElse Clause in Loop Example:\")\n",
        "for i in range(5):\n",
        "    print(i)\n",
        "else:\n",
        "    print(\"Loop completed without a break.\")"
      ]
    },
    {
      "cell_type": "code",
      "source": [
        "while True:\n",
        "  print(\"i will run forever\")\n",
        "\n",
        "  iterator = input(\"do you want to continue? (y/n): \")\n",
        "  if iterator == \"n\":\n",
        "    break"
      ],
      "metadata": {
        "colab": {
          "base_uri": "https://localhost:8080/"
        },
        "id": "HD7mzVJXNQCw",
        "outputId": "c38a3a8a-dfb9-462a-e76d-592bff99a9ab"
      },
      "id": "HD7mzVJXNQCw",
      "execution_count": null,
      "outputs": [
        {
          "name": "stdout",
          "output_type": "stream",
          "text": [
            "i will run forever\n",
            "do you want to continue? (y/n): y\n",
            "i will run forever\n",
            "do you want to continue? (y/n): y\n",
            "i will run forever\n",
            "do you want to continue? (y/n): y\n",
            "i will run forever\n",
            "do you want to continue? (y/n): y\n",
            "i will run forever\n",
            "do you want to continue? (y/n): n\n"
          ]
        }
      ]
    },
    {
      "cell_type": "code",
      "source": [],
      "metadata": {
        "id": "svvuHtMjNP_n"
      },
      "id": "svvuHtMjNP_n",
      "execution_count": null,
      "outputs": []
    },
    {
      "cell_type": "code",
      "execution_count": null,
      "id": "laqJUZa0s_Aq",
      "metadata": {
        "colab": {
          "base_uri": "https://localhost:8080/"
        },
        "id": "laqJUZa0s_Aq",
        "outputId": "862ac5e1-164d-450a-b665-0a2820ea006d"
      },
      "outputs": [
        {
          "output_type": "stream",
          "name": "stdout",
          "text": [
            "0\n",
            "4\n",
            "8\n"
          ]
        }
      ],
      "source": [
        "for i in range(0, 10, 4):  # Range from 1 to 5\n",
        "    print(i)"
      ]
    },
    {
      "cell_type": "markdown",
      "id": "2bb674f2-6ba5-4c03-91c1-66d3897066c0",
      "metadata": {
        "id": "2bb674f2-6ba5-4c03-91c1-66d3897066c0"
      },
      "source": [
        "# Python Functions\n",
        "\n",
        "- The greet function takes a name parameter and prints a greeting.\n",
        "\n",
        "-\n",
        "The square function takes a number parameter and returns its square\n",
        "\n",
        "-\n",
        "The power function has an optional exponent parameter and calculates the power of a numbe\n",
        "\n",
        "- .\n",
        "The multiply function uses the *args syntax to accept a variable number of arguments and multyies th\n",
        "\n",
        "- m.\n",
        "The person_info function demonstrates the use of keyword arguments."
      ]
    },
    {
      "cell_type": "code",
      "source": [],
      "metadata": {
        "id": "-otELy1NRHTD"
      },
      "id": "-otELy1NRHTD",
      "execution_count": null,
      "outputs": []
    },
    {
      "cell_type": "code",
      "source": [
        "name = input(\"enter the name:\")\n",
        "\n",
        "print(\"hello\",name)"
      ],
      "metadata": {
        "colab": {
          "base_uri": "https://localhost:8080/"
        },
        "id": "WalRBbQyPaV3",
        "outputId": "08878519-0ccd-497b-f4a6-4b8260bb4895"
      },
      "id": "WalRBbQyPaV3",
      "execution_count": null,
      "outputs": [
        {
          "output_type": "stream",
          "name": "stdout",
          "text": [
            "enter the name:sam'\n",
            "hello sam'\n"
          ]
        }
      ]
    },
    {
      "cell_type": "code",
      "source": [
        "name = input(\"enter the name:\")\n",
        "print(\"hello\",name)"
      ],
      "metadata": {
        "colab": {
          "base_uri": "https://localhost:8080/"
        },
        "id": "MoTliPYUPjix",
        "outputId": "355e0900-6637-4ac7-badf-04959e2af69f"
      },
      "id": "MoTliPYUPjix",
      "execution_count": null,
      "outputs": [
        {
          "output_type": "stream",
          "name": "stdout",
          "text": [
            "enter the name:anu\n",
            "hello anu\n"
          ]
        }
      ]
    },
    {
      "cell_type": "code",
      "source": [
        "def greet(name):   # function definition\n",
        "\n",
        "  return \"hello \"+name"
      ],
      "metadata": {
        "id": "Rhxi8WROUKRu"
      },
      "id": "Rhxi8WROUKRu",
      "execution_count": null,
      "outputs": []
    },
    {
      "cell_type": "code",
      "source": [
        "greet(\"ananya\")  # calling the function"
      ],
      "metadata": {
        "id": "wlSFpXA9UPhx",
        "outputId": "e9d9e6de-790d-4e40-fd03-6691dcde28ec",
        "colab": {
          "base_uri": "https://localhost:8080/",
          "height": 35
        }
      },
      "id": "wlSFpXA9UPhx",
      "execution_count": null,
      "outputs": [
        {
          "output_type": "execute_result",
          "data": {
            "text/plain": [
              "'hello ananya'"
            ],
            "application/vnd.google.colaboratory.intrinsic+json": {
              "type": "string"
            }
          },
          "metadata": {},
          "execution_count": 12
        }
      ]
    },
    {
      "cell_type": "code",
      "source": [
        "def add_2_nums(a,b):\n",
        "  print(a+b)"
      ],
      "metadata": {
        "id": "eWlCEZ5ATz9H"
      },
      "id": "eWlCEZ5ATz9H",
      "execution_count": null,
      "outputs": []
    },
    {
      "cell_type": "code",
      "source": [
        "add_2_nums(1,2)"
      ],
      "metadata": {
        "colab": {
          "base_uri": "https://localhost:8080/"
        },
        "id": "65ww6bFyTmod",
        "outputId": "c327f9d9-cbe2-4677-eb6a-3696b12ffa2f"
      },
      "id": "65ww6bFyTmod",
      "execution_count": null,
      "outputs": [
        {
          "output_type": "stream",
          "name": "stdout",
          "text": [
            "3\n"
          ]
        }
      ]
    },
    {
      "cell_type": "code",
      "source": [
        "add_2_nums(2,2)"
      ],
      "metadata": {
        "colab": {
          "base_uri": "https://localhost:8080/"
        },
        "id": "PNFQOTBxUE8m",
        "outputId": "e2f121a4-71e1-42ed-b5ed-7316bd9035a2"
      },
      "id": "PNFQOTBxUE8m",
      "execution_count": null,
      "outputs": [
        {
          "output_type": "stream",
          "name": "stdout",
          "text": [
            "4\n"
          ]
        }
      ]
    },
    {
      "cell_type": "code",
      "execution_count": null,
      "id": "7e9e3b2f-e623-42ad-b989-1087a3c8c8bb",
      "metadata": {
        "colab": {
          "base_uri": "https://localhost:8080/"
        },
        "id": "7e9e3b2f-e623-42ad-b989-1087a3c8c8bb",
        "outputId": "079b611b-e473-40e7-af4e-fcf934724b89"
      },
      "outputs": [
        {
          "output_type": "stream",
          "name": "stdout",
          "text": [
            "Hello, Alice!\n",
            "The square of 4 is: 16\n",
            "3 to the power of 2 is: 9\n",
            "2 to the power of 3 is: 8\n",
            "The product of 2, 3, and 4 is: 5040\n",
            "Name: Bob, Age: 30, City: New York\n"
          ]
        }
      ],
      "source": [
        "# Function to greet the user\n",
        "def greet(name):\n",
        "    \"\"\"This function takes a name as an argument and prints a greeting.\"\"\"\n",
        "    print(f\"Hello, {name}!\")\n",
        "\n",
        "# Function to calculate the square of a number\n",
        "def square(number):\n",
        "    \"\"\"This function takes a number as an argument and returns its square.\"\"\"\n",
        "    return number ** 2\n",
        "\n",
        "# Function with default parameter\n",
        "def power(base, exponent=2):\n",
        "    \"\"\"This function calculates the power of a number with an optional exponent.\"\"\"\n",
        "    return base ** exponent\n",
        "\n",
        "# Function with variable number of arguments\n",
        "def multiply(*args):\n",
        "    \"\"\"This function multiplies all the arguments passed to it.\"\"\"\n",
        "    result = 1\n",
        "    for num in args:\n",
        "        result *= num\n",
        "    return result\n",
        "\n",
        "# Function with keyword arguments\n",
        "def person_info(name, age, city):\n",
        "    \"\"\"This function displays information about a person.\"\"\"\n",
        "    print(f\"Name: {name}, Age: {age}, City: {city}\")\n",
        "\n",
        "\n",
        "# Calling the functions\n",
        "greet(\"Alice\")\n",
        "\n",
        "num_squared = square(4)\n",
        "print(f\"The square of 4 is: {num_squared}\")\n",
        "\n",
        "result_power = power(3)\n",
        "print(f\"3 to the power of 2 is: {result_power}\")\n",
        "\n",
        "result_custom_power = power(2, 3)\n",
        "print(f\"2 to the power of 3 is: {result_custom_power}\")\n",
        "\n",
        "result_multiply = multiply(2, 3, 4,5,6,7)\n",
        "print(f\"The product of 2, 3, and 4 is: {result_multiply}\")\n",
        "\n",
        "person_info(name=\"Bob\", age=30, city=\"New York\")\n"
      ]
    },
    {
      "cell_type": "markdown",
      "id": "3426bc7a-5877-496f-937d-a29ff36e56f1",
      "metadata": {
        "id": "3426bc7a-5877-496f-937d-a29ff36e56f1"
      },
      "source": [
        "# Python Modules vs Package vs Libraries vs Frameworks"
      ]
    },
    {
      "cell_type": "markdown",
      "id": "70aea94f-3d36-408e-aa73-ca9d63c5b7a8",
      "metadata": {
        "id": "70aea94f-3d36-408e-aa73-ca9d63c5b7a8"
      },
      "source": [
        "## Python Module:\n",
        "\n",
        "A module is a file containing Python code. It can define variables, functions, and classes that you can use in other Python files. Let's create a module named my_module.py:"
      ]
    },
    {
      "cell_type": "code",
      "execution_count": null,
      "id": "16a25a48-a0c9-4370-ba0d-0c4112033cfa",
      "metadata": {
        "id": "16a25a48-a0c9-4370-ba0d-0c4112033cfa"
      },
      "outputs": [],
      "source": [
        "# File: my_module.py\n",
        "\n",
        "def greet(name):\n",
        "    return f\"Hello, {name}!\"\n"
      ]
    },
    {
      "cell_type": "code",
      "execution_count": null,
      "id": "EGIFjfpPvVw0",
      "metadata": {
        "id": "EGIFjfpPvVw0"
      },
      "outputs": [],
      "source": [
        "from my_module import greet"
      ]
    },
    {
      "cell_type": "code",
      "execution_count": null,
      "id": "usRrO-3JvxLL",
      "metadata": {
        "colab": {
          "base_uri": "https://localhost:8080/"
        },
        "id": "usRrO-3JvxLL",
        "outputId": "8ebbc4ad-1127-477e-8149-8f233b5ca13a"
      },
      "outputs": [
        {
          "name": "stdout",
          "output_type": "stream",
          "text": [
            "Hello, Sam!\n"
          ]
        }
      ],
      "source": [
        "print(greet(\"Sam\"))"
      ]
    },
    {
      "cell_type": "markdown",
      "id": "3f06a48d-f8d6-4855-aa70-d964594ab9d5",
      "metadata": {
        "id": "3f06a48d-f8d6-4855-aa70-d964594ab9d5"
      },
      "source": [
        "## Python Package:\n",
        "A package is a way of organizing related modules into a single directory hierarchy. Let's create a package named my_package with an additional module inside:\n"
      ]
    },
    {
      "cell_type": "code",
      "execution_count": null,
      "id": "fad47f00-3acf-4f7c-b053-17aeda8392c9",
      "metadata": {
        "id": "fad47f00-3acf-4f7c-b053-17aeda8392c9"
      },
      "outputs": [],
      "source": [
        "# Directory structure:\n",
        "# my_package/\n",
        "#   __init__.py\n",
        "#   greetings.py\n",
        "\n",
        "# File: my_package/__init__.py\n",
        "# (This file can be empty; it signifies that the directory should be treated as a package)\n",
        "\n",
        "# File: my_package/greetings.py\n",
        "\n",
        "def farewell(name):\n",
        "    return f\"Goodbye, {name}!\"\n"
      ]
    },
    {
      "cell_type": "code",
      "execution_count": null,
      "id": "2rnHViIswXCi",
      "metadata": {
        "colab": {
          "base_uri": "https://localhost:8080/"
        },
        "id": "2rnHViIswXCi",
        "outputId": "0b45a028-2d1f-4161-9045-0252a8f566d1"
      },
      "outputs": [
        {
          "name": "stdout",
          "output_type": "stream",
          "text": [
            "Goodbye, Sam!\n"
          ]
        }
      ],
      "source": [
        "from my_package.greetings import farewell\n",
        "\n",
        "print(farewell(\"Sam\"))"
      ]
    },
    {
      "cell_type": "markdown",
      "id": "cca66922-77a7-4e62-ad78-219121a3bb54",
      "metadata": {
        "id": "cca66922-77a7-4e62-ad78-219121a3bb54"
      },
      "source": [
        "## Python Library:\n",
        "\n",
        "A library is a collection of modules or packages that can be used to perform specific tasks. In this example, we'll use the math library, which is a built-in Python library for mathematical operations:"
      ]
    },
    {
      "cell_type": "code",
      "execution_count": null,
      "id": "78557f5b-d1cf-4f2e-9eb3-31010efe885b",
      "metadata": {
        "colab": {
          "base_uri": "https://localhost:8080/"
        },
        "id": "78557f5b-d1cf-4f2e-9eb3-31010efe885b",
        "outputId": "31e34f70-2cf4-419e-a544-22eb52372c91"
      },
      "outputs": [
        {
          "name": "stdout",
          "output_type": "stream",
          "text": [
            "Square root of 25 is: 5.0\n"
          ]
        }
      ],
      "source": [
        "# Using the math library\n",
        "import math\n",
        "\n",
        "result = math.sqrt(25)\n",
        "print(f\"Square root of 25 is: {result}\")\n"
      ]
    },
    {
      "cell_type": "markdown",
      "id": "030cea3d-6e8d-4ca8-b2ac-29ed5dc46f43",
      "metadata": {
        "id": "030cea3d-6e8d-4ca8-b2ac-29ed5dc46f43"
      },
      "source": [
        "## Python Framework:\n",
        "A framework is a larger-scale concept that provides a structure and a set of rules for building applications. A popular web framework is Flask. Here's a minimal example:\n",
        "\n",
        "\n"
      ]
    },
    {
      "cell_type": "code",
      "execution_count": null,
      "id": "7cd6de3d-c704-4aca-88af-e188bfd065f4",
      "metadata": {
        "colab": {
          "base_uri": "https://localhost:8080/"
        },
        "id": "7cd6de3d-c704-4aca-88af-e188bfd065f4",
        "outputId": "d8ef1f61-0b23-4b47-e765-6250621edf62"
      },
      "outputs": [
        {
          "output_type": "stream",
          "name": "stdout",
          "text": [
            " * Serving Flask app '__main__'\n",
            " * Debug mode: on\n"
          ]
        },
        {
          "output_type": "stream",
          "name": "stderr",
          "text": [
            "INFO:werkzeug:\u001b[31m\u001b[1mWARNING: This is a development server. Do not use it in a production deployment. Use a production WSGI server instead.\u001b[0m\n",
            " * Running on http://127.0.0.1:5000\n",
            "INFO:werkzeug:\u001b[33mPress CTRL+C to quit\u001b[0m\n",
            "INFO:werkzeug: * Restarting with stat\n"
          ]
        }
      ],
      "source": [
        "# Using the Flask framework\n",
        "from flask import Flask\n",
        "\n",
        "app = Flask(__name__)\n",
        "\n",
        "@app.route('/')\n",
        "def home():\n",
        "    return 'Welcome to my Flask App!'\n",
        "\n",
        "if __name__ == '__main__':\n",
        "    app.run(debug=True)"
      ]
    },
    {
      "cell_type": "markdown",
      "source": [
        "#strings"
      ],
      "metadata": {
        "id": "PE_wcM9WkcXs"
      },
      "id": "PE_wcM9WkcXs"
    },
    {
      "cell_type": "code",
      "execution_count": null,
      "id": "_42ckatLy0pO",
      "metadata": {
        "id": "_42ckatLy0pO",
        "colab": {
          "base_uri": "https://localhost:8080/"
        },
        "outputId": "0986cb95-66f0-406e-c552-4a1d316cfdad"
      },
      "outputs": [
        {
          "output_type": "stream",
          "name": "stdout",
          "text": [
            "<class 'str'>\n"
          ]
        }
      ],
      "source": [
        "x =  \"\"\"* Serving Flask app '__main__'\n",
        " * Debug mode: on\n",
        "INFO:werkzeug:WARNING: This is a development server. Do not use it in a production deployment. Use a production WSGI server instead.\n",
        " * Running on http://127.0.0.1:5000\n",
        "INFO:werkzeug:Press CTRL+C to quit\n",
        "INFO:werkzeug: * Restarting with stat\"\"\"\n",
        "print(type(x))"
      ]
    },
    {
      "cell_type": "code",
      "source": [
        "name = \"a\"\n",
        "type(name)"
      ],
      "metadata": {
        "colab": {
          "base_uri": "https://localhost:8080/"
        },
        "id": "2fiZiuApk2Od",
        "outputId": "955711c9-f93e-4cbc-eb3f-b45762a5b953"
      },
      "id": "2fiZiuApk2Od",
      "execution_count": null,
      "outputs": [
        {
          "output_type": "execute_result",
          "data": {
            "text/plain": [
              "str"
            ]
          },
          "metadata": {},
          "execution_count": 5
        }
      ]
    },
    {
      "cell_type": "code",
      "source": [
        "name = 123\n",
        "print(type(name))"
      ],
      "metadata": {
        "colab": {
          "base_uri": "https://localhost:8080/"
        },
        "id": "C8OlKQg-lRnz",
        "outputId": "1a0471e0-4436-423e-e4dd-7d3ea39c5aa6"
      },
      "id": "C8OlKQg-lRnz",
      "execution_count": null,
      "outputs": [
        {
          "output_type": "stream",
          "name": "stdout",
          "text": [
            "<class 'int'>\n"
          ]
        }
      ]
    },
    {
      "cell_type": "code",
      "source": [
        "text  = \"Hello\"\n",
        "print(id(text))\n",
        "\n"
      ],
      "metadata": {
        "colab": {
          "base_uri": "https://localhost:8080/",
          "height": 53
        },
        "id": "fXVVMnailmX0",
        "outputId": "6c30a508-d09d-4bc3-d5a3-637cb2789464"
      },
      "id": "fXVVMnailmX0",
      "execution_count": null,
      "outputs": [
        {
          "output_type": "stream",
          "name": "stdout",
          "text": [
            "133228149624816\n"
          ]
        },
        {
          "output_type": "execute_result",
          "data": {
            "text/plain": [
              "'Jello'"
            ],
            "application/vnd.google.colaboratory.intrinsic+json": {
              "type": "string"
            }
          },
          "metadata": {},
          "execution_count": 15
        }
      ]
    },
    {
      "cell_type": "code",
      "source": [
        "text"
      ],
      "metadata": {
        "colab": {
          "base_uri": "https://localhost:8080/",
          "height": 35
        },
        "id": "MNMHZuzhnrv-",
        "outputId": "0ee32058-e049-4465-eeaf-bcf6500b8e1c"
      },
      "id": "MNMHZuzhnrv-",
      "execution_count": null,
      "outputs": [
        {
          "output_type": "execute_result",
          "data": {
            "text/plain": [
              "'Hello'"
            ],
            "application/vnd.google.colaboratory.intrinsic+json": {
              "type": "string"
            }
          },
          "metadata": {},
          "execution_count": 14
        }
      ]
    },
    {
      "cell_type": "code",
      "source": [
        "changed_text = text.replace(\"H\", \"J\")\n",
        "print(changed_text)"
      ],
      "metadata": {
        "colab": {
          "base_uri": "https://localhost:8080/"
        },
        "id": "-nM_fTAhnya2",
        "outputId": "3f6a60e9-3fe7-4b7d-b8b6-7889042a401c"
      },
      "id": "-nM_fTAhnya2",
      "execution_count": null,
      "outputs": [
        {
          "output_type": "stream",
          "name": "stdout",
          "text": [
            "Jello\n"
          ]
        }
      ]
    },
    {
      "cell_type": "code",
      "source": [
        "id(changed_text)"
      ],
      "metadata": {
        "colab": {
          "base_uri": "https://localhost:8080/"
        },
        "id": "J_SfrvkVoAD0",
        "outputId": "76878717-4bff-4f1e-dba6-c1a892247b8b"
      },
      "id": "J_SfrvkVoAD0",
      "execution_count": null,
      "outputs": [
        {
          "output_type": "execute_result",
          "data": {
            "text/plain": [
              "133228149625200"
            ]
          },
          "metadata": {},
          "execution_count": 17
        }
      ]
    },
    {
      "cell_type": "code",
      "source": [
        "text = text.replace(\"H\", \"J\")\n",
        "print(text)"
      ],
      "metadata": {
        "colab": {
          "base_uri": "https://localhost:8080/"
        },
        "id": "gbuwkUEroLaf",
        "outputId": "4c81cbc7-c340-4b32-d097-43c29befcfaf"
      },
      "id": "gbuwkUEroLaf",
      "execution_count": null,
      "outputs": [
        {
          "output_type": "stream",
          "name": "stdout",
          "text": [
            "Jello\n"
          ]
        }
      ]
    },
    {
      "cell_type": "code",
      "source": [
        "print(id(text))"
      ],
      "metadata": {
        "colab": {
          "base_uri": "https://localhost:8080/"
        },
        "id": "pBOhHSW2oWiv",
        "outputId": "2a07be60-f837-4582-b7a8-7e5341cde389"
      },
      "id": "pBOhHSW2oWiv",
      "execution_count": null,
      "outputs": [
        {
          "output_type": "stream",
          "name": "stdout",
          "text": [
            "133228150923824\n"
          ]
        }
      ]
    },
    {
      "cell_type": "code",
      "source": [
        "print('Use \\n to print a new line')\n",
        "print('\\n')\n",
        "print('See what \\n I mean?')"
      ],
      "metadata": {
        "colab": {
          "base_uri": "https://localhost:8080/"
        },
        "id": "HjandWmkoYz5",
        "outputId": "c06c19be-3eb7-42f2-e6a8-d56839e9342b"
      },
      "id": "HjandWmkoYz5",
      "execution_count": null,
      "outputs": [
        {
          "output_type": "stream",
          "name": "stdout",
          "text": [
            "Use \n",
            " to print a new line\n",
            "\n",
            "\n",
            "See what \n",
            " I mean?\n"
          ]
        }
      ]
    },
    {
      "cell_type": "markdown",
      "source": [
        "**len()**"
      ],
      "metadata": {
        "id": "iO_KGFEUpV9m"
      },
      "id": "iO_KGFEUpV9m"
    },
    {
      "cell_type": "code",
      "source": [
        "sentc = \"I am ia data sceintist core domain of NLP!\"\n"
      ],
      "metadata": {
        "id": "0fIAkRBFpCZm"
      },
      "id": "0fIAkRBFpCZm",
      "execution_count": null,
      "outputs": []
    },
    {
      "cell_type": "code",
      "source": [
        "len(sentc)"
      ],
      "metadata": {
        "colab": {
          "base_uri": "https://localhost:8080/"
        },
        "id": "bMoW6ZLipiZp",
        "outputId": "150c626e-4be6-4005-9415-f45401c98a6a"
      },
      "id": "bMoW6ZLipiZp",
      "execution_count": null,
      "outputs": [
        {
          "output_type": "execute_result",
          "data": {
            "text/plain": [
              "42"
            ]
          },
          "metadata": {},
          "execution_count": 33
        }
      ]
    },
    {
      "cell_type": "code",
      "source": [
        "sent2 = \"Hello  !!!! , , , \"\n",
        "len(sent2)"
      ],
      "metadata": {
        "colab": {
          "base_uri": "https://localhost:8080/"
        },
        "id": "y2zSNMW_plOE",
        "outputId": "d7ad55e1-bce2-4a6f-d480-0afbadb6a14e"
      },
      "id": "y2zSNMW_plOE",
      "execution_count": null,
      "outputs": [
        {
          "output_type": "execute_result",
          "data": {
            "text/plain": [
              "18"
            ]
          },
          "metadata": {},
          "execution_count": 31
        }
      ]
    },
    {
      "cell_type": "markdown",
      "source": [
        "**slicing and indexing**"
      ],
      "metadata": {
        "id": "HgIAiiQuqQBf"
      },
      "id": "HgIAiiQuqQBf"
    },
    {
      "cell_type": "code",
      "source": [
        "#indexing\n",
        "\n",
        "sent = \"I am ia data sceintist core domain of NLP!\""
      ],
      "metadata": {
        "id": "aO-igX_fpr4r"
      },
      "id": "aO-igX_fpr4r",
      "execution_count": null,
      "outputs": []
    },
    {
      "cell_type": "code",
      "source": [
        "sent[10]"
      ],
      "metadata": {
        "colab": {
          "base_uri": "https://localhost:8080/",
          "height": 35
        },
        "id": "OfDfDID7qaZM",
        "outputId": "a4301cdb-e2d2-47d8-d6ce-e48bc6e07d2d"
      },
      "id": "OfDfDID7qaZM",
      "execution_count": null,
      "outputs": [
        {
          "output_type": "execute_result",
          "data": {
            "text/plain": [
              "'t'"
            ],
            "application/vnd.google.colaboratory.intrinsic+json": {
              "type": "string"
            }
          },
          "metadata": {},
          "execution_count": 36
        }
      ]
    },
    {
      "cell_type": "code",
      "source": [
        "# slicing\n",
        "# value[start:end:step]\n",
        "\n",
        "sent[1:6]"
      ],
      "metadata": {
        "colab": {
          "base_uri": "https://localhost:8080/",
          "height": 35
        },
        "id": "0dIqSneLqbWk",
        "outputId": "b7d949a4-d3c2-4861-d71d-e32ca47a050e"
      },
      "id": "0dIqSneLqbWk",
      "execution_count": null,
      "outputs": [
        {
          "output_type": "execute_result",
          "data": {
            "text/plain": [
              "' am i'"
            ],
            "application/vnd.google.colaboratory.intrinsic+json": {
              "type": "string"
            }
          },
          "metadata": {},
          "execution_count": 39
        }
      ]
    },
    {
      "cell_type": "code",
      "source": [
        "sent[1:6:2]"
      ],
      "metadata": {
        "colab": {
          "base_uri": "https://localhost:8080/",
          "height": 35
        },
        "id": "qdHp-_mTrDDl",
        "outputId": "57b72f35-477e-4531-8e9e-a6fb0db2812e"
      },
      "id": "qdHp-_mTrDDl",
      "execution_count": null,
      "outputs": [
        {
          "output_type": "execute_result",
          "data": {
            "text/plain": [
              "' mi'"
            ],
            "application/vnd.google.colaboratory.intrinsic+json": {
              "type": "string"
            }
          },
          "metadata": {},
          "execution_count": 40
        }
      ]
    },
    {
      "cell_type": "code",
      "source": [
        "sent[3:]"
      ],
      "metadata": {
        "colab": {
          "base_uri": "https://localhost:8080/",
          "height": 35
        },
        "id": "DnNKvLyVriKe",
        "outputId": "70c901ff-4c65-4921-91c2-4252ff85e239"
      },
      "id": "DnNKvLyVriKe",
      "execution_count": null,
      "outputs": [
        {
          "output_type": "execute_result",
          "data": {
            "text/plain": [
              "'m ia data sceintist core domain of NLP!'"
            ],
            "application/vnd.google.colaboratory.intrinsic+json": {
              "type": "string"
            }
          },
          "metadata": {},
          "execution_count": 41
        }
      ]
    },
    {
      "cell_type": "code",
      "source": [
        "sent[:10]"
      ],
      "metadata": {
        "colab": {
          "base_uri": "https://localhost:8080/",
          "height": 35
        },
        "id": "JWyu4d4ZryIF",
        "outputId": "acd137f8-a8e4-4bf8-cbac-e7d16bcb57e8"
      },
      "id": "JWyu4d4ZryIF",
      "execution_count": null,
      "outputs": [
        {
          "output_type": "execute_result",
          "data": {
            "text/plain": [
              "'I am ia da'"
            ],
            "application/vnd.google.colaboratory.intrinsic+json": {
              "type": "string"
            }
          },
          "metadata": {},
          "execution_count": 42
        }
      ]
    },
    {
      "cell_type": "code",
      "source": [
        "sent[::2]"
      ],
      "metadata": {
        "colab": {
          "base_uri": "https://localhost:8080/",
          "height": 35
        },
        "id": "Qu2ovh2Yr8Q-",
        "outputId": "18f5baa1-663e-4abc-d004-957e56733a2c"
      },
      "id": "Qu2ovh2Yr8Q-",
      "execution_count": null,
      "outputs": [
        {
          "output_type": "execute_result",
          "data": {
            "text/plain": [
              "'Ia adt cits oedmi fNP'"
            ],
            "application/vnd.google.colaboratory.intrinsic+json": {
              "type": "string"
            }
          },
          "metadata": {},
          "execution_count": 44
        }
      ]
    },
    {
      "cell_type": "code",
      "source": [
        "sent[-4:-1:2]"
      ],
      "metadata": {
        "colab": {
          "base_uri": "https://localhost:8080/",
          "height": 35
        },
        "id": "7EawHkJusDND",
        "outputId": "1dd1a1ec-d09f-4bc2-8cc1-8e59ac023bdf"
      },
      "id": "7EawHkJusDND",
      "execution_count": null,
      "outputs": [
        {
          "output_type": "execute_result",
          "data": {
            "text/plain": [
              "'NP'"
            ],
            "application/vnd.google.colaboratory.intrinsic+json": {
              "type": "string"
            }
          },
          "metadata": {},
          "execution_count": 48
        }
      ]
    },
    {
      "cell_type": "code",
      "source": [
        "#String properties !\n",
        "string = \"Hello\"\n",
        "string[0] = \"J\""
      ],
      "metadata": {
        "colab": {
          "base_uri": "https://localhost:8080/",
          "height": 180
        },
        "id": "vIxqXtRpsVZF",
        "outputId": "ee9cabf7-0c85-47fd-df95-bff06dcc8e7f"
      },
      "id": "vIxqXtRpsVZF",
      "execution_count": null,
      "outputs": [
        {
          "output_type": "error",
          "ename": "TypeError",
          "evalue": "'str' object does not support item assignment",
          "traceback": [
            "\u001b[0;31m---------------------------------------------------------------------------\u001b[0m",
            "\u001b[0;31mTypeError\u001b[0m                                 Traceback (most recent call last)",
            "\u001b[0;32m<ipython-input-50-c0a71ac6810e>\u001b[0m in \u001b[0;36m<cell line: 0>\u001b[0;34m()\u001b[0m\n\u001b[1;32m      1\u001b[0m \u001b[0;31m#String properties !\u001b[0m\u001b[0;34m\u001b[0m\u001b[0;34m\u001b[0m\u001b[0m\n\u001b[1;32m      2\u001b[0m \u001b[0mstring\u001b[0m \u001b[0;34m=\u001b[0m \u001b[0;34m\"Hello\"\u001b[0m\u001b[0;34m\u001b[0m\u001b[0;34m\u001b[0m\u001b[0m\n\u001b[0;32m----> 3\u001b[0;31m \u001b[0mstring\u001b[0m\u001b[0;34m[\u001b[0m\u001b[0;36m0\u001b[0m\u001b[0;34m]\u001b[0m \u001b[0;34m=\u001b[0m \u001b[0;34m\"J\"\u001b[0m\u001b[0;34m\u001b[0m\u001b[0;34m\u001b[0m\u001b[0m\n\u001b[0m",
            "\u001b[0;31mTypeError\u001b[0m: 'str' object does not support item assignment"
          ]
        }
      ]
    },
    {
      "cell_type": "code",
      "source": [
        "str1 = \"abc\"\n",
        "str2 = \"cfd\"\n",
        "num = 5\n",
        "str3 = str1+ str(num) + str2\n",
        "str3"
      ],
      "metadata": {
        "colab": {
          "base_uri": "https://localhost:8080/",
          "height": 35
        },
        "id": "AWWwlhQTszv4",
        "outputId": "65da1ed4-93aa-418d-f49e-61b57876dbf9"
      },
      "id": "AWWwlhQTszv4",
      "execution_count": null,
      "outputs": [
        {
          "output_type": "execute_result",
          "data": {
            "text/plain": [
              "'abc5cfd'"
            ],
            "application/vnd.google.colaboratory.intrinsic+json": {
              "type": "string"
            }
          },
          "metadata": {},
          "execution_count": 58
        }
      ]
    },
    {
      "cell_type": "code",
      "source": [
        "type(num)"
      ],
      "metadata": {
        "colab": {
          "base_uri": "https://localhost:8080/"
        },
        "id": "rNSrAcFltDaF",
        "outputId": "c43e18b9-b96f-4989-c920-2913630076af"
      },
      "id": "rNSrAcFltDaF",
      "execution_count": null,
      "outputs": [
        {
          "output_type": "execute_result",
          "data": {
            "text/plain": [
              "int"
            ]
          },
          "metadata": {},
          "execution_count": 57
        }
      ]
    },
    {
      "cell_type": "code",
      "source": [
        "#lower()\n",
        "\n",
        "sentc = \"Hello How Are You\"\n",
        "sentc.lower()"
      ],
      "metadata": {
        "colab": {
          "base_uri": "https://localhost:8080/",
          "height": 35
        },
        "id": "zdKmrFRwtUms",
        "outputId": "8ae4a2a5-1dfa-45d7-8123-aa177fea1b9b"
      },
      "id": "zdKmrFRwtUms",
      "execution_count": null,
      "outputs": [
        {
          "output_type": "execute_result",
          "data": {
            "text/plain": [
              "'hello how are you'"
            ],
            "application/vnd.google.colaboratory.intrinsic+json": {
              "type": "string"
            }
          },
          "metadata": {},
          "execution_count": 59
        }
      ]
    },
    {
      "cell_type": "code",
      "source": [
        "sentc.upper()"
      ],
      "metadata": {
        "colab": {
          "base_uri": "https://localhost:8080/",
          "height": 35
        },
        "id": "7Kz3NgUxtygD",
        "outputId": "2b339718-3c8c-4fca-b94e-b4907eef16fc"
      },
      "id": "7Kz3NgUxtygD",
      "execution_count": null,
      "outputs": [
        {
          "output_type": "execute_result",
          "data": {
            "text/plain": [
              "'HELLO HOW ARE YOU'"
            ],
            "application/vnd.google.colaboratory.intrinsic+json": {
              "type": "string"
            }
          },
          "metadata": {},
          "execution_count": 60
        }
      ]
    },
    {
      "cell_type": "code",
      "source": [
        "# count method\n",
        "sentc.count(\"H\")"
      ],
      "metadata": {
        "colab": {
          "base_uri": "https://localhost:8080/"
        },
        "id": "OYUHeB94t3DQ",
        "outputId": "d321ba7c-b929-469a-80de-89e405709a18"
      },
      "id": "OYUHeB94t3DQ",
      "execution_count": null,
      "outputs": [
        {
          "output_type": "execute_result",
          "data": {
            "text/plain": [
              "2"
            ]
          },
          "metadata": {},
          "execution_count": 62
        }
      ]
    },
    {
      "cell_type": "code",
      "source": [
        "sentc.count(\"He\")"
      ],
      "metadata": {
        "colab": {
          "base_uri": "https://localhost:8080/"
        },
        "id": "BTKyqT9zt7og",
        "outputId": "3795f1c7-2f0b-4f49-e476-bac7e491972e"
      },
      "id": "BTKyqT9zt7og",
      "execution_count": null,
      "outputs": [
        {
          "output_type": "execute_result",
          "data": {
            "text/plain": [
              "1"
            ]
          },
          "metadata": {},
          "execution_count": 64
        }
      ]
    },
    {
      "cell_type": "markdown",
      "source": [
        "**find**"
      ],
      "metadata": {
        "id": "rdsxMkwsuT5M"
      },
      "id": "rdsxMkwsuT5M"
    },
    {
      "cell_type": "code",
      "source": [
        "string1 = \"qqqqq Networks\""
      ],
      "metadata": {
        "id": "amz2P4tCuHhQ"
      },
      "id": "amz2P4tCuHhQ",
      "execution_count": null,
      "outputs": []
    },
    {
      "cell_type": "code",
      "source": [
        "string1.find('Networks')"
      ],
      "metadata": {
        "colab": {
          "base_uri": "https://localhost:8080/"
        },
        "id": "FdszsGoUuV0c",
        "outputId": "c63ef81d-6764-4b73-b122-0ad640c6d169"
      },
      "id": "FdszsGoUuV0c",
      "execution_count": null,
      "outputs": [
        {
          "output_type": "execute_result",
          "data": {
            "text/plain": [
              "6"
            ]
          },
          "metadata": {},
          "execution_count": 71
        }
      ]
    },
    {
      "cell_type": "code",
      "source": [
        "first_name = \"sam\"\n",
        "last_name = \"jad\"\n",
        "\n",
        "print(f\"the first_name of the person is {first_name}, and the last_name is {last_name}\")"
      ],
      "metadata": {
        "colab": {
          "base_uri": "https://localhost:8080/"
        },
        "id": "GRYY0VX9uZQv",
        "outputId": "d29654a3-2494-4bb1-a507-ae1088a1c8d5"
      },
      "id": "GRYY0VX9uZQv",
      "execution_count": null,
      "outputs": [
        {
          "output_type": "stream",
          "name": "stdout",
          "text": [
            "the first_name of the person is sam, and the last_name is jad\n"
          ]
        }
      ]
    },
    {
      "cell_type": "code",
      "source": [
        "print(\"the first_name of the person is\" ,first_name,  \"and the last_name is \",last_name)"
      ],
      "metadata": {
        "colab": {
          "base_uri": "https://localhost:8080/"
        },
        "id": "ngCKZ388u0dH",
        "outputId": "9a498795-d677-40ed-f6c6-a6cc61cba589"
      },
      "id": "ngCKZ388u0dH",
      "execution_count": null,
      "outputs": [
        {
          "output_type": "stream",
          "name": "stdout",
          "text": [
            "the first_name of the person is sam and the last_name is  jad\n"
          ]
        }
      ]
    },
    {
      "cell_type": "code",
      "source": [
        "sentence = \"Hello how are you doing!\"\n",
        "sentence.split()"
      ],
      "metadata": {
        "colab": {
          "base_uri": "https://localhost:8080/"
        },
        "id": "rmXXblqkvRjc",
        "outputId": "83b1feac-234e-4193-a653-c5a042734c21"
      },
      "id": "rmXXblqkvRjc",
      "execution_count": null,
      "outputs": [
        {
          "output_type": "execute_result",
          "data": {
            "text/plain": [
              "['Hello', 'how', 'are', 'you', 'doing!']"
            ]
          },
          "metadata": {},
          "execution_count": 76
        }
      ]
    },
    {
      "cell_type": "code",
      "source": [
        "\"\".join(sentence)"
      ],
      "metadata": {
        "colab": {
          "base_uri": "https://localhost:8080/",
          "height": 35
        },
        "id": "G0Zx28bKvvLS",
        "outputId": "37a50b44-5780-4655-d4c6-da428c011448"
      },
      "id": "G0Zx28bKvvLS",
      "execution_count": null,
      "outputs": [
        {
          "output_type": "execute_result",
          "data": {
            "text/plain": [
              "'Hello how are you doing!'"
            ],
            "application/vnd.google.colaboratory.intrinsic+json": {
              "type": "string"
            }
          },
          "metadata": {},
          "execution_count": 80
        }
      ]
    },
    {
      "cell_type": "code",
      "source": [
        "#lists!\n",
        "# is the most used data type in python !\n",
        "\n",
        "l1 = [1,2,3,4]"
      ],
      "metadata": {
        "id": "06EJSUK_wkKT"
      },
      "id": "06EJSUK_wkKT",
      "execution_count": null,
      "outputs": []
    },
    {
      "cell_type": "code",
      "source": [
        "type(l1)"
      ],
      "metadata": {
        "colab": {
          "base_uri": "https://localhost:8080/"
        },
        "id": "GFiADI0TxBGW",
        "outputId": "74b43570-70a7-47cd-c71c-35c92a4e9d43"
      },
      "id": "GFiADI0TxBGW",
      "execution_count": null,
      "outputs": [
        {
          "output_type": "execute_result",
          "data": {
            "text/plain": [
              "list"
            ]
          },
          "metadata": {},
          "execution_count": 82
        }
      ]
    },
    {
      "cell_type": "code",
      "source": [
        "l2 = [\"x\", \"as\", 1.2, 23, True, 2+3J]"
      ],
      "metadata": {
        "id": "v-FMfod8xCJY"
      },
      "id": "v-FMfod8xCJY",
      "execution_count": null,
      "outputs": []
    },
    {
      "cell_type": "code",
      "source": [
        "l2"
      ],
      "metadata": {
        "colab": {
          "base_uri": "https://localhost:8080/"
        },
        "id": "wCla1zmZxKCb",
        "outputId": "6103c5d0-591b-42c8-85d5-9c76ff503f2c"
      },
      "id": "wCla1zmZxKCb",
      "execution_count": null,
      "outputs": [
        {
          "output_type": "execute_result",
          "data": {
            "text/plain": [
              "['Hello', 'as', 1.2, 23, True, (2+3j)]"
            ]
          },
          "metadata": {},
          "execution_count": 84
        }
      ]
    },
    {
      "cell_type": "code",
      "source": [
        "first_value = l2[3]\n",
        "print(first_value)"
      ],
      "metadata": {
        "colab": {
          "base_uri": "https://localhost:8080/"
        },
        "id": "LNP-TtRLxhXw",
        "outputId": "365e22ce-73fd-4343-db66-b5f99cb2ffe9"
      },
      "id": "LNP-TtRLxhXw",
      "execution_count": null,
      "outputs": [
        {
          "output_type": "stream",
          "name": "stdout",
          "text": [
            "23\n"
          ]
        }
      ]
    },
    {
      "cell_type": "code",
      "source": [
        "print(id(first_value))"
      ],
      "metadata": {
        "colab": {
          "base_uri": "https://localhost:8080/"
        },
        "id": "JmIoe05oxwF-",
        "outputId": "0ea5a3e4-18e6-4356-f60e-9f94f68461af"
      },
      "id": "JmIoe05oxwF-",
      "execution_count": null,
      "outputs": [
        {
          "output_type": "stream",
          "name": "stdout",
          "text": [
            "10751560\n"
          ]
        }
      ]
    },
    {
      "cell_type": "code",
      "source": [
        "print(id(l2))"
      ],
      "metadata": {
        "colab": {
          "base_uri": "https://localhost:8080/"
        },
        "id": "VQE2kFToxK_u",
        "outputId": "0b9b902f-d992-4b74-8dd6-d70901b61234"
      },
      "id": "VQE2kFToxK_u",
      "execution_count": null,
      "outputs": [
        {
          "output_type": "stream",
          "name": "stdout",
          "text": [
            "133227759331776\n"
          ]
        }
      ]
    },
    {
      "cell_type": "code",
      "source": [
        "x = 1"
      ],
      "metadata": {
        "id": "nBmkxLHsxdij"
      },
      "id": "nBmkxLHsxdij",
      "execution_count": null,
      "outputs": []
    },
    {
      "cell_type": "code",
      "source": [
        "x = 2"
      ],
      "metadata": {
        "id": "cSwapIdvyPQP"
      },
      "id": "cSwapIdvyPQP",
      "execution_count": null,
      "outputs": []
    },
    {
      "cell_type": "code",
      "source": [
        "print(x)"
      ],
      "metadata": {
        "colab": {
          "base_uri": "https://localhost:8080/"
        },
        "id": "6GpEFTcTyP58",
        "outputId": "721251b7-1f7d-4f57-9441-23794aff4cae"
      },
      "id": "6GpEFTcTyP58",
      "execution_count": null,
      "outputs": [
        {
          "output_type": "stream",
          "name": "stdout",
          "text": [
            "2\n"
          ]
        }
      ]
    },
    {
      "cell_type": "code",
      "source": [
        "fruits = [\"apple\",\"banana\",\"cherry\"]\n",
        "print(fruits)\n",
        "# Apple banana cherry are all fruits"
      ],
      "metadata": {
        "colab": {
          "base_uri": "https://localhost:8080/"
        },
        "id": "E0WqJq8wyQob",
        "outputId": "1ee0a5a9-01e6-4fb1-8816-ecb1efbdcff1"
      },
      "id": "E0WqJq8wyQob",
      "execution_count": null,
      "outputs": [
        {
          "output_type": "stream",
          "name": "stdout",
          "text": [
            "['apple', 'banana', 'cherry']\n"
          ]
        }
      ]
    },
    {
      "cell_type": "code",
      "source": [
        "result = \" \".join(fruits)\n",
        "print(f\" all the given fruits are {result}\")"
      ],
      "metadata": {
        "colab": {
          "base_uri": "https://localhost:8080/"
        },
        "id": "kBNdEamQylEK",
        "outputId": "c7c060e3-d76a-423f-b4e1-c9a96e6816a6"
      },
      "id": "kBNdEamQylEK",
      "execution_count": null,
      "outputs": [
        {
          "output_type": "stream",
          "name": "stdout",
          "text": [
            " all the given fruits are apple banana cherry\n"
          ]
        }
      ]
    },
    {
      "cell_type": "code",
      "source": [
        "emails = [\"user1@gmail.com\", \"user2@gmail.com\"]\n",
        "email_line = \" ; \".join(emails)\n",
        "print(email_line)"
      ],
      "metadata": {
        "colab": {
          "base_uri": "https://localhost:8080/"
        },
        "id": "0B-4wLZKyzaN",
        "outputId": "90edfc89-6d9c-4b48-8631-97ca4a80a098"
      },
      "id": "0B-4wLZKyzaN",
      "execution_count": null,
      "outputs": [
        {
          "output_type": "stream",
          "name": "stdout",
          "text": [
            "user1@gmail.com ; user2@gmail.com\n"
          ]
        }
      ]
    },
    {
      "cell_type": "code",
      "source": [
        "user_input = input(\"enter the first name :\")\n",
        "print(user_input)"
      ],
      "metadata": {
        "colab": {
          "base_uri": "https://localhost:8080/"
        },
        "id": "t0Hv39R3zBCp",
        "outputId": "2fd9b161-ac78-4f60-938a-1715545b5c19"
      },
      "id": "t0Hv39R3zBCp",
      "execution_count": null,
      "outputs": [
        {
          "output_type": "stream",
          "name": "stdout",
          "text": [
            "enter the first name :sau\n",
            "sau\n"
          ]
        }
      ]
    },
    {
      "cell_type": "code",
      "source": [
        "int_input = int(input(\"enter ther numer\"))"
      ],
      "metadata": {
        "colab": {
          "base_uri": "https://localhost:8080/"
        },
        "id": "dsvNZbvGzMKs",
        "outputId": "c7de0347-ba5d-4ca0-abc0-59cac3f6b946"
      },
      "id": "dsvNZbvGzMKs",
      "execution_count": null,
      "outputs": [
        {
          "name": "stdout",
          "output_type": "stream",
          "text": [
            "enter ther numer1\n"
          ]
        }
      ]
    },
    {
      "cell_type": "code",
      "source": [
        "item1 = input(\"enter the first item: \")\n",
        "item2 = input(\"enter the second item: \")\n",
        "item3 = input(\"enter the third item: \")\n",
        "item4 = input(\"enter the fourth item: \")\n",
        "item5 = input(\"enter the fifth item: \")\n",
        "\n",
        "items = [item1, item2, item3, item4, item5]\n",
        "item_line = \" ; \".join(items)\n",
        "print(item_line)"
      ],
      "metadata": {
        "colab": {
          "base_uri": "https://localhost:8080/"
        },
        "id": "PtOJyz5UzT-o",
        "outputId": "bcd8146a-ec61-4871-ccf5-3bca05f12795"
      },
      "id": "PtOJyz5UzT-o",
      "execution_count": null,
      "outputs": [
        {
          "output_type": "stream",
          "name": "stdout",
          "text": [
            "enter the first item: 1\n",
            "enter the second item: sau\n",
            "enter the third item: res\n",
            "enter the fourth item: data\n",
            "enter the fifth item: science\n",
            "1 ; sau ; res ; data ; science\n"
          ]
        }
      ]
    },
    {
      "cell_type": "code",
      "source": [
        "item1 = input(\"enter the first item: \")\n",
        "item2 = input(\"enter the second item: \")\n",
        "item3 = input(\"enter the third item: \")\n",
        "item4 = input(\"enter the fourth item: \")\n",
        "item5 = input(\"enter the fifth item: \")\n",
        "\n",
        "items = item1+item2+item3+item4+item5\n",
        "print(\"sum of items is \", items)"
      ],
      "metadata": {
        "colab": {
          "base_uri": "https://localhost:8080/"
        },
        "id": "c-nF1bH3zbgu",
        "outputId": "26e6e78f-8888-4e9a-85b8-cf9b8528e10f"
      },
      "id": "c-nF1bH3zbgu",
      "execution_count": null,
      "outputs": [
        {
          "output_type": "stream",
          "name": "stdout",
          "text": [
            "enter the first item: 1\n",
            "enter the second item: 2\n",
            "enter the third item: 3\n",
            "enter the fourth item: 4\n",
            "enter the fifth item: 5\n",
            "sum of items is  12345\n"
          ]
        }
      ]
    },
    {
      "cell_type": "code",
      "source": [
        "item1 = int(input(\"enter the first item: \"))\n",
        "item2 = int(input(\"enter the second item: \"))\n",
        "item3 = int(input(\"enter the third item: \"))\n",
        "item4 = int(input(\"enter the fourth item: \"))\n",
        "item5 = int(input(\"enter the fifth item: \"))\n",
        "\n",
        "items = item1+item2+item3+item4+item5\n",
        "print(\"sum of items is \", items)"
      ],
      "metadata": {
        "colab": {
          "base_uri": "https://localhost:8080/"
        },
        "id": "y2Sw-KLszsmw",
        "outputId": "7f91b7fd-ead6-4e1b-89e5-03cd2f574124"
      },
      "id": "y2Sw-KLszsmw",
      "execution_count": null,
      "outputs": [
        {
          "output_type": "stream",
          "name": "stdout",
          "text": [
            "enter the first item: 1\n",
            "enter the second item: 2\n",
            "enter the third item: 3\n",
            "enter the fourth item: 4\n",
            "enter the fifth item: 5\n",
            "sum of items is  15\n"
          ]
        }
      ]
    },
    {
      "cell_type": "code",
      "source": [
        "my_list = ['A string',23,100.232,'o',True]\n",
        "print(id(my_list))\n",
        "print(my_list)"
      ],
      "metadata": {
        "colab": {
          "base_uri": "https://localhost:8080/"
        },
        "id": "8Lorotjkz72H",
        "outputId": "3da367c6-8866-47c9-ca91-f07cebc22dc5"
      },
      "id": "8Lorotjkz72H",
      "execution_count": null,
      "outputs": [
        {
          "output_type": "stream",
          "name": "stdout",
          "text": [
            "133227510492736\n",
            "['A string', 23, 100.232, 'o', True]\n"
          ]
        }
      ]
    },
    {
      "cell_type": "code",
      "source": [
        "my_list[0] = 23\n",
        "print(my_list)"
      ],
      "metadata": {
        "colab": {
          "base_uri": "https://localhost:8080/"
        },
        "id": "42au_yfV0FIK",
        "outputId": "cd05d68b-c35b-4b5c-f9d9-a16a2693a5e7"
      },
      "id": "42au_yfV0FIK",
      "execution_count": null,
      "outputs": [
        {
          "output_type": "stream",
          "name": "stdout",
          "text": [
            "[23, 23, 100.232, 'o', True]\n"
          ]
        }
      ]
    },
    {
      "cell_type": "code",
      "source": [
        "print(id(my_list))\n"
      ],
      "metadata": {
        "colab": {
          "base_uri": "https://localhost:8080/"
        },
        "id": "9iSTZdu10MER",
        "outputId": "d2baba28-b8f3-4959-bef9-8c03d9fd33b5"
      },
      "id": "9iSTZdu10MER",
      "execution_count": null,
      "outputs": [
        {
          "output_type": "stream",
          "name": "stdout",
          "text": [
            "133227510492736\n"
          ]
        }
      ]
    },
    {
      "cell_type": "code",
      "source": [
        "my_list[3] = 47"
      ],
      "metadata": {
        "id": "vBsaJepu0OCz"
      },
      "id": "vBsaJepu0OCz",
      "execution_count": null,
      "outputs": []
    },
    {
      "cell_type": "code",
      "source": [
        "my_list"
      ],
      "metadata": {
        "colab": {
          "base_uri": "https://localhost:8080/"
        },
        "id": "FIpDUJ1X0Zff",
        "outputId": "5433ee5b-b12a-4a4e-fc0c-efaec421a1d9"
      },
      "id": "FIpDUJ1X0Zff",
      "execution_count": null,
      "outputs": [
        {
          "output_type": "execute_result",
          "data": {
            "text/plain": [
              "[23, 23, 100.232, 47, True]"
            ]
          },
          "metadata": {},
          "execution_count": 120
        }
      ]
    },
    {
      "cell_type": "code",
      "source": [
        "print(id(my_list))\n"
      ],
      "metadata": {
        "colab": {
          "base_uri": "https://localhost:8080/"
        },
        "id": "KRTMtKM80apL",
        "outputId": "a5c8bc11-1b67-430a-8a9e-c9876fcd381d"
      },
      "id": "KRTMtKM80apL",
      "execution_count": null,
      "outputs": [
        {
          "output_type": "stream",
          "name": "stdout",
          "text": [
            "133227510492736\n"
          ]
        }
      ]
    },
    {
      "cell_type": "code",
      "source": [
        "#len()\n",
        "len(my_list)"
      ],
      "metadata": {
        "colab": {
          "base_uri": "https://localhost:8080/"
        },
        "id": "WXSm1_TQ0c5N",
        "outputId": "ebd6487d-a6df-4860-f9b4-e2fd78c2bbb1"
      },
      "id": "WXSm1_TQ0c5N",
      "execution_count": null,
      "outputs": [
        {
          "output_type": "execute_result",
          "data": {
            "text/plain": [
              "5"
            ]
          },
          "metadata": {},
          "execution_count": 122
        }
      ]
    },
    {
      "cell_type": "code",
      "source": [
        "# Consider a list of strings\n",
        "loss_functions = ['Mean Absolute Error','Mean Squared Error','Huber Loss','Log Loss','Hinge Loss']\n",
        "print(loss_functions)"
      ],
      "metadata": {
        "colab": {
          "base_uri": "https://localhost:8080/"
        },
        "id": "dqpVnQ0M0m3X",
        "outputId": "4ba56bf3-81c9-4602-86dd-cad95406af09"
      },
      "id": "dqpVnQ0M0m3X",
      "execution_count": null,
      "outputs": [
        {
          "output_type": "stream",
          "name": "stdout",
          "text": [
            "['Mean Absolute Error', 'Mean Squared Error', 'Huber Loss', 'Log Loss', 'Hinge Loss']\n"
          ]
        }
      ]
    },
    {
      "cell_type": "code",
      "source": [
        "print(loss_functions[2])"
      ],
      "metadata": {
        "colab": {
          "base_uri": "https://localhost:8080/"
        },
        "id": "8PXOJRzo1A6P",
        "outputId": "b5ff8908-3659-4a3a-e97c-2e27da28e265"
      },
      "id": "8PXOJRzo1A6P",
      "execution_count": null,
      "outputs": [
        {
          "output_type": "stream",
          "name": "stdout",
          "text": [
            "Huber Loss\n"
          ]
        }
      ]
    },
    {
      "cell_type": "code",
      "source": [
        "len(loss_functions)"
      ],
      "metadata": {
        "colab": {
          "base_uri": "https://localhost:8080/"
        },
        "id": "WNWc6HJy1CHm",
        "outputId": "3d2955d2-aec7-4a12-90b9-bfe25694c23f"
      },
      "id": "WNWc6HJy1CHm",
      "execution_count": null,
      "outputs": [
        {
          "output_type": "execute_result",
          "data": {
            "text/plain": [
              "5"
            ]
          },
          "metadata": {},
          "execution_count": 125
        }
      ]
    },
    {
      "cell_type": "code",
      "source": [
        "print(loss_functions[-2])"
      ],
      "metadata": {
        "colab": {
          "base_uri": "https://localhost:8080/"
        },
        "id": "wA0GogOp1EdJ",
        "outputId": "377077ce-bd62-4ad4-9efc-023b25fea3c6"
      },
      "id": "wA0GogOp1EdJ",
      "execution_count": null,
      "outputs": [
        {
          "output_type": "stream",
          "name": "stdout",
          "text": [
            "Log Loss\n"
          ]
        }
      ]
    },
    {
      "cell_type": "code",
      "source": [
        "# list operations !\n",
        "print(loss_functions)\n"
      ],
      "metadata": {
        "colab": {
          "base_uri": "https://localhost:8080/"
        },
        "id": "uBIzXZaa1LFa",
        "outputId": "220c854f-6e67-4f0a-9959-bf36f3d0a48d"
      },
      "id": "uBIzXZaa1LFa",
      "execution_count": null,
      "outputs": [
        {
          "output_type": "stream",
          "name": "stdout",
          "text": [
            "['Mean Absolute Error', 'Mean Squared Error', 'Huber Loss', 'Log Loss', 'Hinge Loss']\n"
          ]
        }
      ]
    },
    {
      "cell_type": "code",
      "source": [
        "loss_functions = loss_functions + ['Kullback-Leibler']"
      ],
      "metadata": {
        "id": "2W8WmCOo1TrY"
      },
      "id": "2W8WmCOo1TrY",
      "execution_count": null,
      "outputs": []
    },
    {
      "cell_type": "code",
      "source": [
        "loss_functions"
      ],
      "metadata": {
        "colab": {
          "base_uri": "https://localhost:8080/"
        },
        "id": "cSgeI1fp1Wdp",
        "outputId": "d59ba94e-c94d-4626-f385-a499262577b8"
      },
      "id": "cSgeI1fp1Wdp",
      "execution_count": null,
      "outputs": [
        {
          "output_type": "execute_result",
          "data": {
            "text/plain": [
              "['Mean Absolute Error',\n",
              " 'Mean Squared Error',\n",
              " 'Huber Loss',\n",
              " 'Log Loss',\n",
              " 'Hinge Loss',\n",
              " 'Kullback-Leibler']"
            ]
          },
          "metadata": {},
          "execution_count": 133
        }
      ]
    },
    {
      "cell_type": "code",
      "source": [
        "#min and max\n",
        "\n",
        "new_list = [6, 9, 1, 3, 5.5]\n",
        "new_list"
      ],
      "metadata": {
        "colab": {
          "base_uri": "https://localhost:8080/"
        },
        "id": "9wyLRfdK1Zc2",
        "outputId": "83d381fe-6064-4a1b-cf2f-c7566aa7444b"
      },
      "id": "9wyLRfdK1Zc2",
      "execution_count": null,
      "outputs": [
        {
          "output_type": "execute_result",
          "data": {
            "text/plain": [
              "[6, 9, 1, 3, 5.5]"
            ]
          },
          "metadata": {},
          "execution_count": 134
        }
      ]
    },
    {
      "cell_type": "code",
      "source": [
        "min(new_list)"
      ],
      "metadata": {
        "colab": {
          "base_uri": "https://localhost:8080/"
        },
        "id": "Rdf9NNLj1kE6",
        "outputId": "bc880a19-f83a-4105-bc38-67ad5184375d"
      },
      "id": "Rdf9NNLj1kE6",
      "execution_count": null,
      "outputs": [
        {
          "output_type": "execute_result",
          "data": {
            "text/plain": [
              "1"
            ]
          },
          "metadata": {},
          "execution_count": 135
        }
      ]
    },
    {
      "cell_type": "code",
      "source": [
        "max(new_list)"
      ],
      "metadata": {
        "colab": {
          "base_uri": "https://localhost:8080/"
        },
        "id": "xobhH_M31lR5",
        "outputId": "fce56b2f-1c81-4856-f2fe-b213e8d4693c"
      },
      "id": "xobhH_M31lR5",
      "execution_count": null,
      "outputs": [
        {
          "output_type": "execute_result",
          "data": {
            "text/plain": [
              "9"
            ]
          },
          "metadata": {},
          "execution_count": 136
        }
      ]
    },
    {
      "cell_type": "code",
      "source": [
        "sum(new_list)"
      ],
      "metadata": {
        "colab": {
          "base_uri": "https://localhost:8080/"
        },
        "id": "k88_V_An1n-F",
        "outputId": "ba808906-f734-48cb-904b-564f73a73c67"
      },
      "id": "k88_V_An1n-F",
      "execution_count": null,
      "outputs": [
        {
          "output_type": "execute_result",
          "data": {
            "text/plain": [
              "24.5"
            ]
          },
          "metadata": {},
          "execution_count": 138
        }
      ]
    },
    {
      "cell_type": "code",
      "source": [
        "my_list = [2,5,4,1,6,7]\n",
        "sorted(my_list)"
      ],
      "metadata": {
        "colab": {
          "base_uri": "https://localhost:8080/"
        },
        "id": "lzrNxo6d1rGh",
        "outputId": "347521d9-bb38-4aa0-a2d4-10010078e114"
      },
      "id": "lzrNxo6d1rGh",
      "execution_count": null,
      "outputs": [
        {
          "output_type": "execute_result",
          "data": {
            "text/plain": [
              "[1, 2, 4, 5, 6, 7]"
            ]
          },
          "metadata": {},
          "execution_count": 139
        }
      ]
    },
    {
      "cell_type": "code",
      "source": [
        "my_list = [2,5,4,1,6,7]\n",
        "sorted(my_list, reverse=True)"
      ],
      "metadata": {
        "colab": {
          "base_uri": "https://localhost:8080/"
        },
        "id": "-UBJrqtK1wt3",
        "outputId": "74bc271d-426d-4b9d-acd5-ba8126ab6ee5"
      },
      "id": "-UBJrqtK1wt3",
      "execution_count": null,
      "outputs": [
        {
          "output_type": "execute_result",
          "data": {
            "text/plain": [
              "[7, 6, 5, 4, 2, 1]"
            ]
          },
          "metadata": {},
          "execution_count": 140
        }
      ]
    },
    {
      "cell_type": "code",
      "source": [
        "new_list = ['Argue','Abrglar','Parent','Linear','shape']\n",
        "sorted(new_list)"
      ],
      "metadata": {
        "colab": {
          "base_uri": "https://localhost:8080/"
        },
        "id": "c1bMToTN15ct",
        "outputId": "1550590f-f80b-4715-84a7-8554ecbc0132"
      },
      "id": "c1bMToTN15ct",
      "execution_count": null,
      "outputs": [
        {
          "output_type": "execute_result",
          "data": {
            "text/plain": [
              "['Abrglar', 'Argue', 'Linear', 'Parent', 'shape']"
            ]
          },
          "metadata": {},
          "execution_count": 143
        }
      ]
    },
    {
      "cell_type": "markdown",
      "source": [
        "#list methods"
      ],
      "metadata": {
        "id": "kjtysi5p2IPF"
      },
      "id": "kjtysi5p2IPF"
    },
    {
      "cell_type": "code",
      "source": [
        "# Create a new list\n",
        "my_list = [1,2,3,1,1,1,3,10,5,8]"
      ],
      "metadata": {
        "id": "51S3T0rb19t3"
      },
      "id": "51S3T0rb19t3",
      "execution_count": null,
      "outputs": []
    },
    {
      "cell_type": "code",
      "source": [
        "#append will ad value at the end\n",
        "\n",
        "my_list.append(23)"
      ],
      "metadata": {
        "id": "i5Ug5t5F2Njj"
      },
      "id": "i5Ug5t5F2Njj",
      "execution_count": null,
      "outputs": []
    },
    {
      "cell_type": "code",
      "source": [
        "my_list"
      ],
      "metadata": {
        "colab": {
          "base_uri": "https://localhost:8080/"
        },
        "id": "hGHO9j2Z2Z2w",
        "outputId": "25e8268a-8a7a-47ec-b354-c85657fd6916"
      },
      "id": "hGHO9j2Z2Z2w",
      "execution_count": null,
      "outputs": [
        {
          "output_type": "execute_result",
          "data": {
            "text/plain": [
              "[1, 2, 3, 1, 1, 1, 3, 10, 5, 8, 23]"
            ]
          },
          "metadata": {},
          "execution_count": 146
        }
      ]
    },
    {
      "cell_type": "code",
      "source": [
        "my_list.append('Append me!')"
      ],
      "metadata": {
        "id": "ujKPPBbi2a3Z"
      },
      "id": "ujKPPBbi2a3Z",
      "execution_count": null,
      "outputs": []
    },
    {
      "cell_type": "code",
      "source": [
        "my_list"
      ],
      "metadata": {
        "colab": {
          "base_uri": "https://localhost:8080/"
        },
        "id": "GpFDghzp2mk2",
        "outputId": "d3d9f048-0fdc-4c53-c985-6dcf58100022"
      },
      "id": "GpFDghzp2mk2",
      "execution_count": null,
      "outputs": [
        {
          "output_type": "execute_result",
          "data": {
            "text/plain": [
              "[1, 2, 3, 1, 1, 1, 3, 10, 5, 8, 23, 'Append me!']"
            ]
          },
          "metadata": {},
          "execution_count": 148
        }
      ]
    },
    {
      "cell_type": "code",
      "source": [
        "basket = []\n",
        "basket.append('apple')\n",
        "basket.append('banana')\n",
        "basket.append('orange')"
      ],
      "metadata": {
        "id": "dTle6vNK2nWr"
      },
      "id": "dTle6vNK2nWr",
      "execution_count": null,
      "outputs": []
    },
    {
      "cell_type": "code",
      "source": [
        "basket\n"
      ],
      "metadata": {
        "colab": {
          "base_uri": "https://localhost:8080/"
        },
        "id": "Bry1E3_S2sGy",
        "outputId": "8f25c194-6e2a-4946-aed0-381e648bf72d"
      },
      "id": "Bry1E3_S2sGy",
      "execution_count": null,
      "outputs": [
        {
          "output_type": "execute_result",
          "data": {
            "text/plain": [
              "['apple', 'banana', 'orange']"
            ]
          },
          "metadata": {},
          "execution_count": 150
        }
      ]
    },
    {
      "cell_type": "code",
      "source": [
        "#you are arrenging an hourse party\n",
        "# i wanrt you to print the proper hello welcome to the party mesg to them\n",
        "guest_list = []\n",
        "print(\"the guest list for now is :\", guest_list)\n",
        "name1= input(\"please tell me your name:\")\n",
        "guest_list.append(name1)\n",
        "print(\"the name of the first guest is added\", guest_list)\n",
        "name2 = input(\"enter the guest name 2nd:\")\n",
        "guest_list.append(name2)\n",
        "name3 = input(\"enter the guest name 3rd:\")\n",
        "guest_list.append(name3)\n",
        "print(\"this is the final guest list\",guest_list)"
      ],
      "metadata": {
        "colab": {
          "base_uri": "https://localhost:8080/"
        },
        "id": "L1XezvyW2tWg",
        "outputId": "3786e5d4-fd6c-4001-9f76-70ce94bac778"
      },
      "id": "L1XezvyW2tWg",
      "execution_count": null,
      "outputs": [
        {
          "output_type": "stream",
          "name": "stdout",
          "text": [
            "the guest list for now is : []\n",
            "please tell me your name:sam\n",
            "the name of the first guest is added ['sam']\n",
            "enter the guest name 2nd:jam\n",
            "enter the guest name 3rd:ham\n",
            "this is the final guest list ['sam', 'jam', 'ham']\n"
          ]
        }
      ]
    },
    {
      "cell_type": "code",
      "source": [
        "names = \",\".join(guest_list)\n",
        "print(\"hello welcome to the party\", names)"
      ],
      "metadata": {
        "colab": {
          "base_uri": "https://localhost:8080/"
        },
        "id": "DjtsEwzH2_pe",
        "outputId": "88199318-869d-461e-fd45-85b2829b9212"
      },
      "id": "DjtsEwzH2_pe",
      "execution_count": null,
      "outputs": [
        {
          "output_type": "stream",
          "name": "stdout",
          "text": [
            "hello welcome to the party sam,jam,ham\n"
          ]
        }
      ]
    },
    {
      "cell_type": "code",
      "source": [
        "guest_list.append([1,2,4,5,6])"
      ],
      "metadata": {
        "id": "Loi8gJ6Y4IgU"
      },
      "id": "Loi8gJ6Y4IgU",
      "execution_count": null,
      "outputs": []
    },
    {
      "cell_type": "code",
      "source": [
        "guest_list"
      ],
      "metadata": {
        "colab": {
          "base_uri": "https://localhost:8080/"
        },
        "id": "IRE8btvu4W3I",
        "outputId": "19d5e4ea-8619-4d17-d0ee-ebd16b7ce917"
      },
      "id": "IRE8btvu4W3I",
      "execution_count": null,
      "outputs": [
        {
          "output_type": "execute_result",
          "data": {
            "text/plain": [
              "['sam', 'jam', 'ham', [1, 2, 4, 5, 6]]"
            ]
          },
          "metadata": {},
          "execution_count": 158
        }
      ]
    },
    {
      "cell_type": "code",
      "source": [
        "guest_list[3][3]"
      ],
      "metadata": {
        "colab": {
          "base_uri": "https://localhost:8080/"
        },
        "id": "aAmz3stL4YAn",
        "outputId": "85d8c309-8c94-4f22-cf02-c11f90021f34"
      },
      "id": "aAmz3stL4YAn",
      "execution_count": null,
      "outputs": [
        {
          "output_type": "execute_result",
          "data": {
            "text/plain": [
              "5"
            ]
          },
          "metadata": {},
          "execution_count": 165
        }
      ]
    },
    {
      "cell_type": "code",
      "source": [
        "#extend\n",
        "print(my_list)"
      ],
      "metadata": {
        "colab": {
          "base_uri": "https://localhost:8080/"
        },
        "id": "nZ3UKvg-4dVk",
        "outputId": "1fb59ba5-fd34-45f4-c55b-dc4abe420c67"
      },
      "id": "nZ3UKvg-4dVk",
      "execution_count": null,
      "outputs": [
        {
          "output_type": "stream",
          "name": "stdout",
          "text": [
            "[1, 2, 3, 1, 1, 1, 3, 10, 5, 8, 23, 'Append me!']\n"
          ]
        }
      ]
    },
    {
      "cell_type": "code",
      "source": [
        "l1 = [1,2,3]\n",
        "l2 = [3,4,5]\n",
        "l1.append(l2)\n",
        "l1"
      ],
      "metadata": {
        "colab": {
          "base_uri": "https://localhost:8080/"
        },
        "id": "28CyYhuv6OsQ",
        "outputId": "2b818094-8e3b-40ce-ca8c-a021eab45035"
      },
      "id": "28CyYhuv6OsQ",
      "execution_count": null,
      "outputs": [
        {
          "output_type": "execute_result",
          "data": {
            "text/plain": [
              "[1, 2, 3, [3, 4, 5]]"
            ]
          },
          "metadata": {},
          "execution_count": 167
        }
      ]
    },
    {
      "cell_type": "code",
      "source": [
        "l1[3]"
      ],
      "metadata": {
        "colab": {
          "base_uri": "https://localhost:8080/"
        },
        "id": "UxfntqjF6TpD",
        "outputId": "f315e47d-8280-4b27-8a17-a786890d84df"
      },
      "id": "UxfntqjF6TpD",
      "execution_count": null,
      "outputs": [
        {
          "output_type": "execute_result",
          "data": {
            "text/plain": [
              "[3, 4, 5]"
            ]
          },
          "metadata": {},
          "execution_count": 168
        }
      ]
    },
    {
      "cell_type": "code",
      "source": [
        "l1.extend(l2)"
      ],
      "metadata": {
        "id": "g23V9QqO6b3N"
      },
      "id": "g23V9QqO6b3N",
      "execution_count": null,
      "outputs": []
    },
    {
      "cell_type": "code",
      "source": [
        "l1"
      ],
      "metadata": {
        "colab": {
          "base_uri": "https://localhost:8080/"
        },
        "id": "OYrvFzhJ6fCC",
        "outputId": "d0830261-cbed-4f23-bb23-b44b112ec2ca"
      },
      "id": "OYrvFzhJ6fCC",
      "execution_count": null,
      "outputs": [
        {
          "output_type": "execute_result",
          "data": {
            "text/plain": [
              "[1, 2, 3, [3, 4, 5], 3, 4, 5]"
            ]
          },
          "metadata": {},
          "execution_count": 170
        }
      ]
    },
    {
      "cell_type": "code",
      "source": [
        "#pop  you pass the index of the value you need to remove\n",
        "my_list.pop(0)"
      ],
      "metadata": {
        "colab": {
          "base_uri": "https://localhost:8080/"
        },
        "id": "SwvPN3QD6fro",
        "outputId": "7266e724-5a31-44e4-e2a0-8003c6369110"
      },
      "id": "SwvPN3QD6fro",
      "execution_count": null,
      "outputs": [
        {
          "output_type": "execute_result",
          "data": {
            "text/plain": [
              "2"
            ]
          },
          "metadata": {},
          "execution_count": 180
        }
      ]
    },
    {
      "cell_type": "code",
      "source": [
        "my_list\n"
      ],
      "metadata": {
        "colab": {
          "base_uri": "https://localhost:8080/"
        },
        "id": "jlZSy8dO6qD4",
        "outputId": "8c95025e-50cb-470d-dd59-8cf2d87c3d55"
      },
      "id": "jlZSy8dO6qD4",
      "execution_count": null,
      "outputs": [
        {
          "output_type": "execute_result",
          "data": {
            "text/plain": [
              "[2, 3, 1, 1, 1, 3, 10, 5, 8, 23]"
            ]
          },
          "metadata": {},
          "execution_count": 176
        }
      ]
    },
    {
      "cell_type": "code",
      "source": [
        "my_list.pop(1)"
      ],
      "metadata": {
        "colab": {
          "base_uri": "https://localhost:8080/"
        },
        "id": "JEyelsPS6usf",
        "outputId": "2033ff66-9644-4960-d066-ab9cdc66067d"
      },
      "id": "JEyelsPS6usf",
      "execution_count": null,
      "outputs": [
        {
          "output_type": "execute_result",
          "data": {
            "text/plain": [
              "3"
            ]
          },
          "metadata": {},
          "execution_count": 178
        }
      ]
    },
    {
      "cell_type": "code",
      "source": [
        "my_list"
      ],
      "metadata": {
        "colab": {
          "base_uri": "https://localhost:8080/"
        },
        "id": "sYNV9Sic6zHk",
        "outputId": "9243f789-3778-4d60-90e7-ba1f025870da"
      },
      "id": "sYNV9Sic6zHk",
      "execution_count": null,
      "outputs": [
        {
          "output_type": "execute_result",
          "data": {
            "text/plain": [
              "[2, 1, 1, 1, 3, 10, 5, 8, 23]"
            ]
          },
          "metadata": {},
          "execution_count": 179
        }
      ]
    },
    {
      "cell_type": "code",
      "source": [
        "# remove wil take out the element !\n",
        "\n",
        "\n",
        "my_list.remove(5)"
      ],
      "metadata": {
        "id": "iT4MsOsh6zmL"
      },
      "id": "iT4MsOsh6zmL",
      "execution_count": null,
      "outputs": []
    },
    {
      "cell_type": "code",
      "source": [
        "my_list"
      ],
      "metadata": {
        "colab": {
          "base_uri": "https://localhost:8080/"
        },
        "id": "IbO3ekZ07BdJ",
        "outputId": "85587d7b-aa00-4194-c194-3d7509d1e7fc"
      },
      "id": "IbO3ekZ07BdJ",
      "execution_count": null,
      "outputs": [
        {
          "output_type": "execute_result",
          "data": {
            "text/plain": [
              "[1, 1, 1, 3, 8, 23]"
            ]
          },
          "metadata": {},
          "execution_count": 185
        }
      ]
    },
    {
      "cell_type": "code",
      "source": [
        "my_list.count(1)"
      ],
      "metadata": {
        "colab": {
          "base_uri": "https://localhost:8080/"
        },
        "id": "qM_ASsOb7CY-",
        "outputId": "a76c8e91-1c21-46cf-e719-6bb3d8fad691"
      },
      "id": "qM_ASsOb7CY-",
      "execution_count": null,
      "outputs": [
        {
          "output_type": "execute_result",
          "data": {
            "text/plain": [
              "3"
            ]
          },
          "metadata": {},
          "execution_count": 188
        }
      ]
    },
    {
      "cell_type": "code",
      "source": [
        "my_list.index(3)"
      ],
      "metadata": {
        "colab": {
          "base_uri": "https://localhost:8080/"
        },
        "id": "4DG4C8YN7QBo",
        "outputId": "e590ba75-fc79-4768-ca3b-74567d1750a8"
      },
      "id": "4DG4C8YN7QBo",
      "execution_count": null,
      "outputs": [
        {
          "output_type": "execute_result",
          "data": {
            "text/plain": [
              "3"
            ]
          },
          "metadata": {},
          "execution_count": 189
        }
      ]
    },
    {
      "cell_type": "code",
      "source": [
        "lst_1=[1,2,3]\n",
        "lst_2=['b','a','d']\n",
        "lst_3=[7,8,9]\n",
        "list_of_lists = [lst_1,lst_2,lst_3]"
      ],
      "metadata": {
        "id": "9v2jnoy07WcI"
      },
      "id": "9v2jnoy07WcI",
      "execution_count": null,
      "outputs": []
    },
    {
      "cell_type": "code",
      "source": [
        "list_of_lists"
      ],
      "metadata": {
        "colab": {
          "base_uri": "https://localhost:8080/"
        },
        "id": "Eg-JdYDq7hsS",
        "outputId": "c5dd4dc8-c128-493c-9bd4-34cdaf41f903"
      },
      "id": "Eg-JdYDq7hsS",
      "execution_count": null,
      "outputs": [
        {
          "output_type": "execute_result",
          "data": {
            "text/plain": [
              "[[1, 2, 3], ['b', 'a', 'd'], [7, 8, 9]]"
            ]
          },
          "metadata": {},
          "execution_count": 192
        }
      ]
    },
    {
      "cell_type": "code",
      "source": [
        "list_of_lists[1][1]"
      ],
      "metadata": {
        "colab": {
          "base_uri": "https://localhost:8080/",
          "height": 35
        },
        "id": "3JJFuHfp7d0E",
        "outputId": "42bb59bc-dade-449a-a781-e24e5d28e74e"
      },
      "id": "3JJFuHfp7d0E",
      "execution_count": null,
      "outputs": [
        {
          "output_type": "execute_result",
          "data": {
            "text/plain": [
              "'a'"
            ],
            "application/vnd.google.colaboratory.intrinsic+json": {
              "type": "string"
            }
          },
          "metadata": {},
          "execution_count": 197
        }
      ]
    },
    {
      "cell_type": "code",
      "source": [
        "#add element to the specific index of position\n",
        "#insert(index, value)"
      ],
      "metadata": {
        "id": "ufSVkdxo7gag"
      },
      "id": "ufSVkdxo7gag",
      "execution_count": null,
      "outputs": []
    },
    {
      "cell_type": "code",
      "source": [
        "my_list.insert(2, \"john\")"
      ],
      "metadata": {
        "id": "Z3q3YE7L7wup"
      },
      "id": "Z3q3YE7L7wup",
      "execution_count": null,
      "outputs": []
    },
    {
      "cell_type": "code",
      "source": [
        "my_list"
      ],
      "metadata": {
        "colab": {
          "base_uri": "https://localhost:8080/"
        },
        "id": "MXZqNbqr7yYr",
        "outputId": "805bf554-e6b6-4769-ccdf-81b9dea63e9b"
      },
      "id": "MXZqNbqr7yYr",
      "execution_count": null,
      "outputs": [
        {
          "output_type": "execute_result",
          "data": {
            "text/plain": [
              "[1, 1, 'john', 1, 3, 8, 23]"
            ]
          },
          "metadata": {},
          "execution_count": 200
        }
      ]
    },
    {
      "cell_type": "code",
      "source": [
        "my_list.insert(4, 34)"
      ],
      "metadata": {
        "id": "LEWB5dsl7zC2"
      },
      "id": "LEWB5dsl7zC2",
      "execution_count": null,
      "outputs": []
    },
    {
      "cell_type": "code",
      "source": [
        "my_list"
      ],
      "metadata": {
        "id": "Iiai__Rc73h2",
        "outputId": "02ae45c4-0231-43cd-dbb6-04b5466abbcd",
        "colab": {
          "base_uri": "https://localhost:8080/"
        }
      },
      "id": "Iiai__Rc73h2",
      "execution_count": null,
      "outputs": [
        {
          "output_type": "execute_result",
          "data": {
            "text/plain": [
              "[1, 1, 'john', 1, 34, 3, 8, 23]"
            ]
          },
          "metadata": {},
          "execution_count": 202
        }
      ]
    },
    {
      "cell_type": "code",
      "source": [],
      "metadata": {
        "id": "Q9nfRIvA74MY"
      },
      "id": "Q9nfRIvA74MY",
      "execution_count": null,
      "outputs": []
    }
  ],
  "metadata": {
    "colab": {
      "provenance": [],
      "include_colab_link": true
    },
    "kernelspec": {
      "display_name": "Python 3 (ipykernel)",
      "language": "python",
      "name": "python3"
    },
    "language_info": {
      "codemirror_mode": {
        "name": "ipython",
        "version": 3
      },
      "file_extension": ".py",
      "mimetype": "text/x-python",
      "name": "python",
      "nbconvert_exporter": "python",
      "pygments_lexer": "ipython3",
      "version": "3.11.4"
    }
  },
  "nbformat": 4,
  "nbformat_minor": 5
}