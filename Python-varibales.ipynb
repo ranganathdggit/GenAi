{
 "cells": [
  {
   "cell_type": "code",
   "execution_count": 2,
   "id": "82e450a2",
   "metadata": {},
   "outputs": [
    {
     "name": "stdout",
     "output_type": "stream",
     "text": [
      "test\n"
     ]
    }
   ],
   "source": [
    "print(\"test\")"
   ]
  },
  {
   "cell_type": "code",
   "execution_count": 3,
   "id": "b818c40b",
   "metadata": {},
   "outputs": [
    {
     "name": "stdout",
     "output_type": "stream",
     "text": [
      "ranga ranga ranga ranga ranga \n"
     ]
    }
   ],
   "source": [
    "print(\"ranga \" * 5)"
   ]
  },
  {
   "cell_type": "code",
   "execution_count": 4,
   "id": "2662a3d3",
   "metadata": {},
   "outputs": [
    {
     "name": "stdout",
     "output_type": "stream",
     "text": [
      "0\n",
      "1\n",
      "2\n",
      "3\n",
      "4\n"
     ]
    }
   ],
   "source": [
    "for i in range(5):\n",
    "    print(i)"
   ]
  },
  {
   "cell_type": "code",
   "execution_count": 2,
   "id": "b2a64e30",
   "metadata": {},
   "outputs": [
    {
     "name": "stdout",
     "output_type": "stream",
     "text": [
      "7\n"
     ]
    }
   ],
   "source": [
    "ranga = 2+5\n",
    "print(ranga)"
   ]
  },
  {
   "cell_type": "code",
   "execution_count": 4,
   "id": "2f53b414",
   "metadata": {},
   "outputs": [
    {
     "name": "stdout",
     "output_type": "stream",
     "text": [
      "the number added sum is 7\n",
      "thetypr of ranga is <class 'int'>\n"
     ]
    }
   ],
   "source": [
    "print(\"the number added sum is\", ranga)\n",
    "print(\"thetypr of ranga is\", type(ranga))"
   ]
  },
  {
   "cell_type": "code",
   "execution_count": 6,
   "id": "e3e6cc6d",
   "metadata": {},
   "outputs": [
    {
     "name": "stdout",
     "output_type": "stream",
     "text": [
      "the type of ranga is <class 'int'>, and the numer is goood\n"
     ]
    }
   ],
   "source": [
    "print(f\"the type of ranga is {type(ranga)}, and the numer is goood\")"
   ]
  },
  {
   "cell_type": "code",
   "execution_count": 9,
   "id": "be697959",
   "metadata": {},
   "outputs": [
    {
     "name": "stdout",
     "output_type": "stream",
     "text": [
      "a is 20, b is 3.0, c is ranga and types are like this - <class 'int'>, <class 'float'>, <class 'str'>\n",
      "a is test, b is [1, 2, 3], c is (1, 2, 3) and types are like this - <class 'str'>, <class 'list'>, <class 'tuple'>\n"
     ]
    }
   ],
   "source": [
    "a = 20\n",
    "b= 3.0\n",
    "c = \"ranga\"\n",
    "print(f\"a is {a}, b is {b}, c is {c} and types are like this - {type(a)}, {type(b)}, {type(c)}\")\n",
    "a=\"test\"\n",
    "b=[1, 2, 3]\n",
    "c=(1, 2, 3)\n",
    "print(f\"a is {a}, b is {b}, c is {c} and types are like this - {type(a)}, {type(b)}, {type(c)}\")"
   ]
  },
  {
   "cell_type": "code",
   "execution_count": null,
   "id": "0cc53c87",
   "metadata": {},
   "outputs": [],
   "source": []
  }
 ],
 "metadata": {
  "kernelspec": {
   "display_name": "base",
   "language": "python",
   "name": "python3"
  },
  "language_info": {
   "codemirror_mode": {
    "name": "ipython",
    "version": 3
   },
   "file_extension": ".py",
   "mimetype": "text/x-python",
   "name": "python",
   "nbconvert_exporter": "python",
   "pygments_lexer": "ipython3",
   "version": "3.12.7"
  }
 },
 "nbformat": 4,
 "nbformat_minor": 5
}
