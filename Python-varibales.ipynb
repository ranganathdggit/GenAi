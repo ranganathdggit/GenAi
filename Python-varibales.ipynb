{
 "cells": [
  {
   "cell_type": "code",
   "execution_count": 10,
   "id": "82e450a2",
   "metadata": {},
   "outputs": [
    {
     "name": "stdout",
     "output_type": "stream",
     "text": [
      "test\n"
     ]
    }
   ],
   "source": [
    "print(\"test\")"
   ]
  },
  {
   "cell_type": "code",
   "execution_count": 11,
   "id": "b818c40b",
   "metadata": {},
   "outputs": [
    {
     "name": "stdout",
     "output_type": "stream",
     "text": [
      "ranga ranga ranga ranga ranga \n"
     ]
    }
   ],
   "source": [
    "print(\"ranga \" * 5)"
   ]
  },
  {
   "cell_type": "code",
   "execution_count": 12,
   "id": "2662a3d3",
   "metadata": {},
   "outputs": [
    {
     "name": "stdout",
     "output_type": "stream",
     "text": [
      "0\n",
      "1\n",
      "2\n",
      "3\n",
      "4\n"
     ]
    }
   ],
   "source": [
    "for i in range(5):\n",
    "    print(i)"
   ]
  },
  {
   "cell_type": "code",
   "execution_count": 13,
   "id": "b2a64e30",
   "metadata": {},
   "outputs": [
    {
     "name": "stdout",
     "output_type": "stream",
     "text": [
      "7\n"
     ]
    }
   ],
   "source": [
    "ranga = 2+5\n",
    "print(ranga)"
   ]
  },
  {
   "cell_type": "code",
   "execution_count": 14,
   "id": "2f53b414",
   "metadata": {},
   "outputs": [
    {
     "name": "stdout",
     "output_type": "stream",
     "text": [
      "the number added sum is 7\n",
      "thetypr of ranga is <class 'int'>\n"
     ]
    }
   ],
   "source": [
    "print(\"the number added sum is\", ranga)\n",
    "print(\"thetypr of ranga is\", type(ranga))"
   ]
  },
  {
   "cell_type": "code",
   "execution_count": 15,
   "id": "e3e6cc6d",
   "metadata": {},
   "outputs": [
    {
     "name": "stdout",
     "output_type": "stream",
     "text": [
      "the type of ranga is <class 'int'>, and the numer is goood\n"
     ]
    }
   ],
   "source": [
    "print(f\"the type of ranga is {type(ranga)}, and the numer is goood\")"
   ]
  },
  {
   "cell_type": "code",
   "execution_count": 16,
   "id": "be697959",
   "metadata": {},
   "outputs": [
    {
     "name": "stdout",
     "output_type": "stream",
     "text": [
      "a is 20, b is 3.0, c is ranga and types are like this - <class 'int'>, <class 'float'>, <class 'str'>\n",
      "a is test, b is [1, 2, 3], c is (1, 2, 3) and types are like this - <class 'str'>, <class 'list'>, <class 'tuple'>\n"
     ]
    }
   ],
   "source": [
    "a = 20\n",
    "b= 3.0\n",
    "c = \"ranga\"\n",
    "print(f\"a is {a}, b is {b}, c is {c} and types are like this - {type(a)}, {type(b)}, {type(c)}\")\n",
    "a=\"test\"\n",
    "b=[1, 2, 3]\n",
    "c=(1, 2, 3)\n",
    "print(f\"a is {a}, b is {b}, c is {c} and types are like this - {type(a)}, {type(b)}, {type(c)}\")"
   ]
  },
  {
   "cell_type": "code",
   "execution_count": 29,
   "id": "e7a00a90",
   "metadata": {},
   "outputs": [
    {
     "name": "stdout",
     "output_type": "stream",
     "text": [
      "the dictionary is {'name': 'ranga', 'age': 30, 'city': 'Bangalore'} and the type is <class 'dict'>\n",
      "ranga\n",
      "30\n",
      "Bangalore\n",
      "the name is ranga, age is 30 and city is Bangalore\n",
      "memoryview is <memory at 0x7f2ba9c9d9c0>\n"
     ]
    }
   ],
   "source": [
    "import pickle\n",
    "dictionary = {\"name\": \"ranga\", \"age\": 30, \"city\": \"Bangalore\"}\n",
    "print(f\"the dictionary is {dictionary} and the type is {type(dictionary)}\")\n",
    "print(dictionary[\"name\"])\n",
    "print(dictionary[\"age\"])\n",
    "print(dictionary[\"city\"])\n",
    "print(f\"the name is {dictionary['name']}, age is {dictionary['age']} and city is {dictionary['city']}\")\n",
    "# Serialize dictionary to bytes, then create memoryview\n",
    "data_bytes = pickle.dumps(dictionary)\n",
    "print(f\"memoryview is {memoryview(data_bytes)}\")"
   ]
  },
  {
   "cell_type": "code",
   "execution_count": null,
   "id": "c954b790",
   "metadata": {},
   "outputs": [
    {
     "name": "stdout",
     "output_type": "stream",
     "text": [
      "the set is {1, 2, 3, 4, 5} and the type is <class 'set'>\n",
      "the frozen set is ({1, 2, 3, 4, 5}, {6, 7, 8, 25, 26}) and the type is <class 'tuple'>\n",
      "the frozen set is {1, 2, 3, 4, 5} and the type is <class 'set'>\n"
     ]
    },
    {
     "ename": "TypeError",
     "evalue": "'tuple' object does not support item assignment",
     "output_type": "error",
     "traceback": [
      "\u001b[0;31m---------------------------------------------------------------------------\u001b[0m",
      "\u001b[0;31mTypeError\u001b[0m                                 Traceback (most recent call last)",
      "Cell \u001b[0;32mIn[36], line 7\u001b[0m\n\u001b[1;32m      5\u001b[0m \u001b[38;5;28mprint\u001b[39m(\u001b[38;5;124mf\u001b[39m\u001b[38;5;124m\"\u001b[39m\u001b[38;5;124mthe frozen set is \u001b[39m\u001b[38;5;132;01m{\u001b[39;00mfrozenSet\u001b[38;5;132;01m}\u001b[39;00m\u001b[38;5;124m and the type is \u001b[39m\u001b[38;5;132;01m{\u001b[39;00m\u001b[38;5;28mtype\u001b[39m(frozenSet)\u001b[38;5;132;01m}\u001b[39;00m\u001b[38;5;124m\"\u001b[39m)\n\u001b[1;32m      6\u001b[0m \u001b[38;5;28mprint\u001b[39m(\u001b[38;5;124mf\u001b[39m\u001b[38;5;124m\"\u001b[39m\u001b[38;5;124mthe frozen set is \u001b[39m\u001b[38;5;132;01m{\u001b[39;00mfrozenSet[\u001b[38;5;241m0\u001b[39m]\u001b[38;5;132;01m}\u001b[39;00m\u001b[38;5;124m and the type is \u001b[39m\u001b[38;5;132;01m{\u001b[39;00m\u001b[38;5;28mtype\u001b[39m(frozenSet[\u001b[38;5;241m1\u001b[39m])\u001b[38;5;132;01m}\u001b[39;00m\u001b[38;5;124m\"\u001b[39m)\n\u001b[0;32m----> 7\u001b[0m frozenSet[\u001b[38;5;241m0\u001b[39m] \u001b[38;5;241m=\u001b[39m {\u001b[38;5;241m1\u001b[39m, \u001b[38;5;241m2\u001b[39m, \u001b[38;5;241m3\u001b[39m, \u001b[38;5;241m4\u001b[39m, \u001b[38;5;241m5\u001b[39m, \u001b[38;5;241m6\u001b[39m}\n",
      "\u001b[0;31mTypeError\u001b[0m: 'tuple' object does not support item assignment"
     ]
    }
   ],
   "source": [
    "set={1, 2, 3, 4, 5}\n",
    "print(f\"the set is {set} and the type is {type(set)}\")\n",
    "\n",
    "frozenSet = ({1, 2, 3, 4, 5},{25,6,26,7,8})\n",
    "print(f\"the frozen set is {frozenSet} and the type is {type(frozenSet)}\")\n",
    "print(f\"the frozen set is {frozenSet[0]} and the type is {type(frozenSet[1])}\")\n",
    "#frozenSet[0] = {1, 2, 3, 4, 5, 6}  # This will raise an error because frozen sets are immutable"
   ]
  },
  {
   "cell_type": "code",
   "execution_count": 1,
   "id": "c40fa557",
   "metadata": {},
   "outputs": [
    {
     "name": "stdout",
     "output_type": "stream",
     "text": [
      "the tuple is (1, 2, 3, 4, 5) and the type is <class 'tuple'>\n",
      "the list is <class 'list'> and the type is <class 'list'>\n",
      "the list is list[0] and the type is <class 'int'>\n",
      "the list is list[1] and the type is <class 'int'>\n",
      "[1, 2, 3, 4, 5, 6, 7, 8, 9]\n"
     ]
    }
   ],
   "source": [
    "my_tuple = (1, 2, 3, 4, 5)\n",
    "print(f\"the tuple is {my_tuple} and the type is {type(my_tuple)}\")\n",
    "my_list = [1, 2, 3, 4, 5]\n",
    "print(f\"the list is {list} and the type is {type(my_list)}\")\n",
    "print(f\"the list is {list[0]} and the type is {type(my_list[0])}\")\n",
    "print(f\"the list is {list[1]} and the type is {type(my_list[1])}\")\n",
    "range_list = range(1, 10)\n",
    "print(list(range_list))\n",
    "\n"
   ]
  },
  {
   "cell_type": "code",
   "execution_count": 1,
   "id": "09a3ac1e",
   "metadata": {},
   "outputs": [
    {
     "name": "stdout",
     "output_type": "stream",
     "text": [
      "Hello, Ranga!\n",
      "You are 25 years old.\n",
      "Your salary is 32.0.\n",
      "Your second salary is 25.0.\n",
      "Your total salary is total_salary - 57.0\n",
      "Hello, Ranga!\n"
     ]
    }
   ],
   "source": [
    "name = input(\"Enter your name: \")\n",
    "print(f\"Hello, {name}!\")\n",
    "age = int(input(\"Enter your age: \"))\n",
    "print(f\"You are {age} years old.\")\n",
    "sal1 = float(input(\"Enter your salary: \"))\n",
    "print(f\"Your salary is {sal1}.\")\n",
    "sal2 = float(input(\"Enter your second salary: \"))\n",
    "print(f\"Your second salary is {sal2}.\")\n",
    "total_salary = sal1 + sal2\n",
    "print(f\"Your total salary is total_salary -\",total_salary)\n",
    "# Example of a simple function\n",
    "def greet(name):\n",
    "    return f\"Hello, {name}!\"\n",
    "# Call the function\n",
    "greeting = greet(name)\n",
    "print(greeting)"
   ]
  }
 ],
 "metadata": {
  "kernelspec": {
   "display_name": "base",
   "language": "python",
   "name": "python3"
  },
  "language_info": {
   "codemirror_mode": {
    "name": "ipython",
    "version": 3
   },
   "file_extension": ".py",
   "mimetype": "text/x-python",
   "name": "python",
   "nbconvert_exporter": "python",
   "pygments_lexer": "ipython3",
   "version": "3.12.7"
  }
 },
 "nbformat": 4,
 "nbformat_minor": 5
}
